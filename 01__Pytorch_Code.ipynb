{
  "cells": [
    {
      "cell_type": "markdown",
      "metadata": {
        "id": "view-in-github",
        "colab_type": "text"
      },
      "source": [
        "<a href=\"https://colab.research.google.com/github/PyCraftMusadaq/TensorFlowCodes/blob/main/01__Pytorch_Code.ipynb\" target=\"_parent\"><img src=\"https://colab.research.google.com/assets/colab-badge.svg\" alt=\"Open In Colab\"/></a>"
      ]
    },
    {
      "cell_type": "code",
      "execution_count": 1,
      "metadata": {
        "id": "gJ36fC4eYDuL"
      },
      "outputs": [],
      "source": [
        "import torch\n",
        "from torch import nn ## it contains Pytorch's Building Blocks\n",
        "import matplotlib.pyplot as plt\n",
        "import numpy as np\n",
        "import pandas as pd"
      ]
    },
    {
      "cell_type": "markdown",
      "metadata": {
        "id": "XdIFv7AVYNIL"
      },
      "source": [
        "# Data(preparing and loading)"
      ]
    },
    {
      "cell_type": "code",
      "execution_count": 2,
      "metadata": {
        "colab": {
          "base_uri": "https://localhost:8080/"
        },
        "id": "5DYw_gGOZOL_",
        "outputId": "5a38e404-c185-4996-fc9e-5ab253de4910"
      },
      "outputs": [
        {
          "output_type": "execute_result",
          "data": {
            "text/plain": [
              "tensor([[0.0000],\n",
              "        [0.0200],\n",
              "        [0.0400],\n",
              "        [0.0600],\n",
              "        [0.0800],\n",
              "        [0.1000],\n",
              "        [0.1200],\n",
              "        [0.1400],\n",
              "        [0.1600],\n",
              "        [0.1800],\n",
              "        [0.2000],\n",
              "        [0.2200],\n",
              "        [0.2400],\n",
              "        [0.2600],\n",
              "        [0.2800],\n",
              "        [0.3000],\n",
              "        [0.3200],\n",
              "        [0.3400],\n",
              "        [0.3600],\n",
              "        [0.3800],\n",
              "        [0.4000],\n",
              "        [0.4200],\n",
              "        [0.4400],\n",
              "        [0.4600],\n",
              "        [0.4800],\n",
              "        [0.5000],\n",
              "        [0.5200],\n",
              "        [0.5400],\n",
              "        [0.5600],\n",
              "        [0.5800],\n",
              "        [0.6000],\n",
              "        [0.6200],\n",
              "        [0.6400],\n",
              "        [0.6600],\n",
              "        [0.6800],\n",
              "        [0.7000],\n",
              "        [0.7200],\n",
              "        [0.7400],\n",
              "        [0.7600],\n",
              "        [0.7800],\n",
              "        [0.8000],\n",
              "        [0.8200],\n",
              "        [0.8400],\n",
              "        [0.8600],\n",
              "        [0.8800],\n",
              "        [0.9000],\n",
              "        [0.9200],\n",
              "        [0.9400],\n",
              "        [0.9600],\n",
              "        [0.9800]])"
            ]
          },
          "metadata": {},
          "execution_count": 2
        }
      ],
      "source": [
        "# create known  parameters\n",
        "weight = 0.7\n",
        "bias = 0.3\n",
        "\n",
        "# create numbers\n",
        "start = 0\n",
        "end = 1\n",
        "step = 0.02\n",
        "X = torch.arange(start,end,step).unsqueeze(dim=1)\n",
        "X"
      ]
    },
    {
      "cell_type": "code",
      "execution_count": 3,
      "metadata": {
        "id": "EbXBtcZ1afHZ"
      },
      "outputs": [],
      "source": [
        "y = weight* X + bias\n",
        "y = y.squeeze()"
      ]
    },
    {
      "cell_type": "markdown",
      "metadata": {
        "id": "DS4CTEMgawm3"
      },
      "source": [
        "## Splitting our data into train,test part"
      ]
    },
    {
      "cell_type": "code",
      "execution_count": 4,
      "metadata": {
        "colab": {
          "base_uri": "https://localhost:8080/"
        },
        "id": "Jym28yxUmUp8",
        "outputId": "02c8b13f-9419-4bb4-af18-ce38f01cbb97"
      },
      "outputs": [
        {
          "output_type": "execute_result",
          "data": {
            "text/plain": [
              "40"
            ]
          },
          "metadata": {},
          "execution_count": 4
        }
      ],
      "source": [
        "train_split = int(0.8*len(X))\n",
        "train_split"
      ]
    },
    {
      "cell_type": "code",
      "execution_count": 5,
      "metadata": {
        "colab": {
          "base_uri": "https://localhost:8080/"
        },
        "id": "8Doj41t7qDvo",
        "outputId": "88cf2b56-68b0-4b93-8aa9-7933d37373de"
      },
      "outputs": [
        {
          "output_type": "execute_result",
          "data": {
            "text/plain": [
              "10"
            ]
          },
          "metadata": {},
          "execution_count": 5
        }
      ],
      "source": [
        "test_split = int(0.2*len(X))\n",
        "test_split"
      ]
    },
    {
      "cell_type": "code",
      "execution_count": 6,
      "metadata": {
        "colab": {
          "base_uri": "https://localhost:8080/"
        },
        "id": "AAqqU86zqJHx",
        "outputId": "8f0b9268-568d-4370-b9eb-225e4aa03c4c"
      },
      "outputs": [
        {
          "output_type": "stream",
          "name": "stdout",
          "text": [
            "torch.Size([40, 1])\n",
            "torch.Size([40])\n",
            "torch.Size([10, 1])\n",
            "torch.Size([10])\n"
          ]
        }
      ],
      "source": [
        "X_train = X[:train_split]\n",
        "y_train = y[:train_split]\n",
        "X_test = X[train_split:]\n",
        "y_test = y[train_split:]\n",
        "\n",
        "print(X_train.shape)\n",
        "print(y_train.shape)\n",
        "print(X_test.shape)\n",
        "print(y_test.shape)"
      ]
    },
    {
      "cell_type": "code",
      "execution_count": 7,
      "metadata": {
        "colab": {
          "base_uri": "https://localhost:8080/"
        },
        "id": "vfzBUYltqTME",
        "outputId": "738505b7-dbd9-45c4-f770-377876816737"
      },
      "outputs": [
        {
          "output_type": "execute_result",
          "data": {
            "text/plain": [
              "(40, 40, 10, 10)"
            ]
          },
          "metadata": {},
          "execution_count": 7
        }
      ],
      "source": [
        "len(X_train), len(y_train),len(X_test),len(y_test)"
      ]
    },
    {
      "cell_type": "code",
      "execution_count": 8,
      "metadata": {
        "id": "Ei_YWKFwr9Lp"
      },
      "outputs": [],
      "source": [
        "# Lets create functions\n",
        "def plot_predictions(train_data=X_train,train_labels=y_train,test_data=X_test,test_labels=y,predictions=None):\n",
        "  \"\"\"\n",
        "  Plot Train,test and compare predictoins thorough visualizations\n",
        "  \"\"\"\n",
        "  plt.figure(figsize=(10,7))\n",
        "  plt.scatter(train_data,train_labels,c=\"r\",s=4,label=\"traning data\")\n",
        "  plt.scatter(test_data,test_labels,c=\"g\",s=4,label=\"testing data\")\n",
        "  if predictions is not None:\n",
        "    plt.scatter(test_data,predictions,c=\"b\",s=4,label=\"predictions\")\n",
        "  plt.legend(prop={\"size\":14})\n",
        "  plt.show()"
      ]
    },
    {
      "cell_type": "code",
      "execution_count": 9,
      "metadata": {
        "colab": {
          "base_uri": "https://localhost:8080/",
          "height": 599
        },
        "id": "BGImkjBbtIgy",
        "outputId": "9f8e49a0-f619-4641-d29b-dc21f8abf020"
      },
      "outputs": [
        {
          "output_type": "display_data",
          "data": {
            "text/plain": [
              "<Figure size 1000x700 with 1 Axes>"
            ],
            "image/png": "[encoded data removed]"
          },
          "metadata": {}
        }
      ],
      "source": [
        "plot_predictions(X_train,y_train,X_test,y_test)"
      ]
    },
    {
      "cell_type": "markdown",
      "metadata": {
        "id": "CNC-GKd0tROR"
      },
      "source": [
        "## Creating our first model in pytorch for linear regression"
      ]
    },
    {
      "cell_type": "code",
      "execution_count": 10,
      "metadata": {
        "id": "IvREMc7q3taK"
      },
      "outputs": [],
      "source": [
        "# Building our First PyTorch Model\n",
        "class LinearRegressionModel(nn.Module):\n",
        "  def __init__(self):\n",
        "    super().__init__()\n",
        "    self.weights = nn.Parameter(torch.randn(1,requires_grad=True,dtype=torch.float))\n",
        "    self.bias = nn.Parameter(torch.randn(1,requires_grad=True,dtype=torch.float))\n",
        "\n",
        "  def forward(self,X:torch.Tensor)-> torch.Tensor:\n",
        "    return self.weights * X + self.bias"
      ]
    },
    {
      "cell_type": "markdown",
      "metadata": {
        "id": "jvZjvXMCcE-G"
      },
      "source": [
        "## Checking the content of PyTorch Model(parameters())"
      ]
    },
    {
      "cell_type": "code",
      "execution_count": 11,
      "metadata": {
        "id": "-lW9LCAMcJx_"
      },
      "outputs": [],
      "source": [
        "# set the random seed first of all while using random functions\n",
        "torch.manual_seed(42)\n",
        "\n",
        "# create an instance of model\n",
        "model_0 = LinearRegressionModel()"
      ]
    },
    {
      "cell_type": "code",
      "execution_count": 12,
      "metadata": {
        "colab": {
          "base_uri": "https://localhost:8080/"
        },
        "id": "3yWtrqQScjS7",
        "outputId": "d6a81b2f-3c49-4e0b-9d5d-f7b361666235"
      },
      "outputs": [
        {
          "output_type": "execute_result",
          "data": {
            "text/plain": [
              "[Parameter containing:\n",
              " tensor([0.3367], requires_grad=True),\n",
              " Parameter containing:\n",
              " tensor([0.1288], requires_grad=True)]"
            ]
          },
          "metadata": {},
          "execution_count": 12
        }
      ],
      "source": [
        "list(model_0.parameters())"
      ]
    },
    {
      "cell_type": "code",
      "execution_count": 13,
      "metadata": {
        "colab": {
          "base_uri": "https://localhost:8080/"
        },
        "id": "iZnSvK7wczG1",
        "outputId": "d1e381d9-5435-440c-c4c3-b966fce1a26b"
      },
      "outputs": [
        {
          "output_type": "execute_result",
          "data": {
            "text/plain": [
              "OrderedDict([('weights', tensor([0.3367])), ('bias', tensor([0.1288]))])"
            ]
          },
          "metadata": {},
          "execution_count": 13
        }
      ],
      "source": [
        "# List Named parameters\n",
        "model_0.state_dict()"
      ]
    },
    {
      "cell_type": "markdown",
      "metadata": {
        "id": "KKLMCs5ddtLt"
      },
      "source": [
        "### Making Predictions using torch.inference_mode()"
      ]
    },
    {
      "cell_type": "code",
      "execution_count": 14,
      "metadata": {
        "id": "ovghAw7xenp3"
      },
      "outputs": [],
      "source": [
        "# Make predictions using model_0\n",
        "with torch.inference_mode(): # it turns out the Gradient Model Tracking mode off.\n",
        "  y_preds = model_0(X_test)"
      ]
    },
    {
      "cell_type": "code",
      "execution_count": 15,
      "metadata": {
        "colab": {
          "base_uri": "https://localhost:8080/"
        },
        "id": "3ke4VUt_fMig",
        "outputId": "4f91e8fd-e444-4515-a286-c9c3404c8ee7"
      },
      "outputs": [
        {
          "output_type": "execute_result",
          "data": {
            "text/plain": [
              "tensor([[0.3982],\n",
              "        [0.4049],\n",
              "        [0.4116],\n",
              "        [0.4184],\n",
              "        [0.4251],\n",
              "        [0.4318],\n",
              "        [0.4386],\n",
              "        [0.4453],\n",
              "        [0.4520],\n",
              "        [0.4588]])"
            ]
          },
          "metadata": {},
          "execution_count": 15
        }
      ],
      "source": [
        "y_preds"
      ]
    },
    {
      "cell_type": "code",
      "execution_count": 16,
      "metadata": {
        "colab": {
          "base_uri": "https://localhost:8080/"
        },
        "id": "sNCC3Py2fN7z",
        "outputId": "5e34cb15-e756-44aa-82a5-cfff935090a4"
      },
      "outputs": [
        {
          "output_type": "execute_result",
          "data": {
            "text/plain": [
              "tensor([0.8600, 0.8740, 0.8880, 0.9020, 0.9160, 0.9300, 0.9440, 0.9580, 0.9720,\n",
              "        0.9860])"
            ]
          },
          "metadata": {},
          "execution_count": 16
        }
      ],
      "source": [
        "y_test"
      ]
    },
    {
      "cell_type": "code",
      "execution_count": 17,
      "metadata": {
        "colab": {
          "base_uri": "https://localhost:8080/",
          "height": 599
        },
        "id": "v5OwNkQgfQ88",
        "outputId": "e8b39a08-17bb-4e60-d3b1-9ccd16f1db30"
      },
      "outputs": [
        {
          "output_type": "display_data",
          "data": {
            "text/plain": [
              "<Figure size 1000x700 with 1 Axes>"
            ],
            "image/png": "[encoded data removed]"
          },
          "metadata": {}
        }
      ],
      "source": [
        "# lets visulize the output\n",
        "plot_predictions(X_train,y_train,X_test,y_test,y_preds)"
      ]
    },
    {
      "cell_type": "code",
      "execution_count": 18,
      "metadata": {
        "colab": {
          "base_uri": "https://localhost:8080/"
        },
        "id": "_EVkvGOIgLRt",
        "outputId": "57bcf1ec-06da-4352-c138-de8390757a0d"
      },
      "outputs": [
        {
          "output_type": "execute_result",
          "data": {
            "text/plain": [
              "tensor([[0.3982],\n",
              "        [0.4049],\n",
              "        [0.4116],\n",
              "        [0.4184],\n",
              "        [0.4251],\n",
              "        [0.4318],\n",
              "        [0.4386],\n",
              "        [0.4453],\n",
              "        [0.4520],\n",
              "        [0.4588]], grad_fn=<AddBackward0>)"
            ]
          },
          "metadata": {},
          "execution_count": 18
        }
      ],
      "source": [
        "## we could make predictions using model_0 direct\n",
        "y_preds_1 = model_0(X_test)\n",
        "y_preds_1"
      ]
    },
    {
      "cell_type": "markdown",
      "metadata": {
        "id": "wbbtGEJ6614_"
      },
      "source": [
        "### Train the Model"
      ]
    },
    {
      "cell_type": "code",
      "execution_count": 19,
      "metadata": {
        "id": "7MIbrgsLG18F"
      },
      "outputs": [],
      "source": [
        "### Setup a Loss functions\n",
        "loss_fn = nn.L1Loss()\n",
        "loss_fn\n",
        "\n",
        "\n",
        "### Setup an optimizer\n",
        "optimizer = torch.optim.SGD(params=model_0.parameters(),lr=0.001)"
      ]
    },
    {
      "cell_type": "code",
      "execution_count": 20,
      "metadata": {
        "colab": {
          "base_uri": "https://localhost:8080/"
        },
        "id": "UxOOrjBrN1KK",
        "outputId": "94d8d3c5-67b3-4283-bf45-5e703d0048a2"
      },
      "outputs": [
        {
          "output_type": "stream",
          "name": "stderr",
          "text": [
            "/usr/local/lib/python3.10/dist-packages/torch/nn/modules/loss.py:101: UserWarning: Using a target size (torch.Size([40])) that is different to the input size (torch.Size([40, 1])). This will likely lead to incorrect results due to broadcasting. Please ensure they have the same size.\n",
            "  return F.l1_loss(input, target, reduction=self.reduction)\n",
            "/usr/local/lib/python3.10/dist-packages/torch/nn/modules/loss.py:101: UserWarning: Using a target size (torch.Size([10])) that is different to the input size (torch.Size([10, 1])). This will likely lead to incorrect results due to broadcasting. Please ensure they have the same size.\n",
            "  return F.l1_loss(input, target, reduction=self.reduction)\n"
          ]
        },
        {
          "output_type": "stream",
          "name": "stdout",
          "text": [
            "Loss at 0 iteration: 0.31520015001296997\n",
            "Test Loss at 0 iteration, Test Loss: 0.49330204725265503 Loss:0.31520015001296997\n",
            "OrderedDict([('weights', tensor([0.3370])), ('bias', tensor([0.1297]))])\n",
            "Loss at 1 iteration: 0.3142184913158417\n",
            "Loss at 2 iteration: 0.3132368326187134\n",
            "Loss at 3 iteration: 0.31225576996803284\n",
            "Loss at 4 iteration: 0.3112791180610657\n",
            "Loss at 5 iteration: 0.3103100061416626\n",
            "Loss at 6 iteration: 0.30934733152389526\n",
            "Loss at 7 iteration: 0.30838850140571594\n",
            "Loss at 8 iteration: 0.3074296712875366\n",
            "Loss at 9 iteration: 0.3064711093902588\n",
            "Loss at 10 iteration: 0.3055168390274048\n",
            "Test Loss at 10 iteration, Test Loss: 0.48106929659843445 Loss:0.3055168390274048\n",
            "OrderedDict([('weights', tensor([0.3404])), ('bias', tensor([0.1390]))])\n",
            "Loss at 11 iteration: 0.3045707046985626\n",
            "Loss at 12 iteration: 0.30363237857818604\n",
            "Loss at 13 iteration: 0.30269598960876465\n",
            "Loss at 14 iteration: 0.30175960063934326\n",
            "Loss at 15 iteration: 0.3008231818675995\n",
            "Loss at 16 iteration: 0.2998887896537781\n",
            "Loss at 17 iteration: 0.29896318912506104\n",
            "Loss at 18 iteration: 0.2980479300022125\n",
            "Loss at 19 iteration: 0.2971363961696625\n",
            "Loss at 20 iteration: 0.2962248921394348\n",
            "Test Loss at 20 iteration, Test Loss: 0.46910926699638367 Loss:0.2962248921394348\n",
            "OrderedDict([('weights', tensor([0.3437])), ('bias', tensor([0.1480]))])\n",
            "Loss at 21 iteration: 0.29531338810920715\n",
            "Loss at 22 iteration: 0.29440224170684814\n",
            "Loss at 23 iteration: 0.29349857568740845\n",
            "Loss at 24 iteration: 0.2926062345504761\n",
            "Loss at 25 iteration: 0.29171910881996155\n",
            "Loss at 26 iteration: 0.2908320128917694\n",
            "Loss at 27 iteration: 0.2899448871612549\n",
            "Loss at 28 iteration: 0.28905776143074036\n",
            "Loss at 29 iteration: 0.28817233443260193\n",
            "Loss at 30 iteration: 0.2873005270957947\n",
            "Test Loss at 30 iteration, Test Loss: 0.4574166238307953 Loss:0.2873005270957947\n",
            "OrderedDict([('weights', tensor([0.3468])), ('bias', tensor([0.1569]))])\n",
            "Loss at 31 iteration: 0.2864401340484619\n",
            "Loss at 32 iteration: 0.28557971119880676\n",
            "Loss at 33 iteration: 0.2847192883491516\n",
            "Loss at 34 iteration: 0.28385886549949646\n",
            "Loss at 35 iteration: 0.2829984724521637\n",
            "Loss at 36 iteration: 0.2821422219276428\n",
            "Loss at 37 iteration: 0.2813079357147217\n",
            "Loss at 38 iteration: 0.2804736793041229\n",
            "Loss at 39 iteration: 0.2796393930912018\n",
            "Loss at 40 iteration: 0.278805136680603\n",
            "Test Loss at 40 iteration, Test Loss: 0.44602131843566895 Loss:0.278805136680603\n",
            "OrderedDict([('weights', tensor([0.3499])), ('bias', tensor([0.1656]))])\n",
            "Loss at 41 iteration: 0.2779708504676819\n",
            "Loss at 42 iteration: 0.27713656425476074\n",
            "Loss at 43 iteration: 0.27631044387817383\n",
            "Loss at 44 iteration: 0.2755044400691986\n",
            "Loss at 45 iteration: 0.274698406457901\n",
            "Loss at 46 iteration: 0.2738923728466034\n",
            "Loss at 47 iteration: 0.2730863094329834\n",
            "Loss at 48 iteration: 0.27228033542633057\n",
            "Loss at 49 iteration: 0.2714744508266449\n",
            "Loss at 50 iteration: 0.27068009972572327\n",
            "Test Loss at 50 iteration, Test Loss: 0.43491223454475403 Loss:0.27068009972572327\n",
            "OrderedDict([('weights', tensor([0.3528])), ('bias', tensor([0.1741]))])\n",
            "Loss at 51 iteration: 0.26990169286727905\n",
            "Loss at 52 iteration: 0.26912325620651245\n",
            "Loss at 53 iteration: 0.26834484934806824\n",
            "Loss at 54 iteration: 0.267566442489624\n",
            "Loss at 55 iteration: 0.2667880356311798\n",
            "Loss at 56 iteration: 0.26601114869117737\n",
            "Loss at 57 iteration: 0.2652464210987091\n",
            "Loss at 58 iteration: 0.2644933760166168\n",
            "Loss at 59 iteration: 0.2637444734573364\n",
            "Loss at 60 iteration: 0.2629956007003784\n",
            "Test Loss at 60 iteration, Test Loss: 0.42411938309669495 Loss:0.2629956007003784\n",
            "OrderedDict([('weights', tensor([0.3556])), ('bias', tensor([0.1824]))])\n",
            "Loss at 61 iteration: 0.2622467577457428\n",
            "Loss at 62 iteration: 0.2614978849887848\n",
            "Loss at 63 iteration: 0.2607507109642029\n",
            "Loss at 64 iteration: 0.26001232862472534\n",
            "Loss at 65 iteration: 0.2592831552028656\n",
            "Loss at 66 iteration: 0.2585616707801819\n",
            "Loss at 67 iteration: 0.2578415870666504\n",
            "Loss at 68 iteration: 0.2571214735507965\n",
            "Loss at 69 iteration: 0.256401389837265\n",
            "Loss at 70 iteration: 0.25568369030952454\n",
            "Test Loss at 70 iteration, Test Loss: 0.41361573338508606 Loss:0.25568369030952454\n",
            "OrderedDict([('weights', tensor([0.3583])), ('bias', tensor([0.1905]))])\n",
            "Loss at 71 iteration: 0.25497350096702576\n",
            "Loss at 72 iteration: 0.2542702555656433\n",
            "Loss at 73 iteration: 0.2535734474658966\n",
            "Loss at 74 iteration: 0.2528824508190155\n",
            "Loss at 75 iteration: 0.252192884683609\n",
            "Loss at 76 iteration: 0.2515033781528473\n",
            "Loss at 77 iteration: 0.25081515312194824\n",
            "Loss at 78 iteration: 0.25013238191604614\n",
            "Loss at 79 iteration: 0.24945585429668427\n",
            "Loss at 80 iteration: 0.24878406524658203\n",
            "Test Loss at 80 iteration, Test Loss: 0.4034420847892761 Loss:0.24878406524658203\n",
            "OrderedDict([('weights', tensor([0.3609])), ('bias', tensor([0.1983]))])\n",
            "Loss at 81 iteration: 0.24811683595180511\n",
            "Loss at 82 iteration: 0.24745389819145203\n",
            "Loss at 83 iteration: 0.24679401516914368\n",
            "Loss at 84 iteration: 0.24613545835018158\n",
            "Loss at 85 iteration: 0.24548175930976868\n",
            "Loss at 86 iteration: 0.24483264982700348\n",
            "Loss at 87 iteration: 0.24418789148330688\n",
            "Loss at 88 iteration: 0.24354729056358337\n",
            "Loss at 89 iteration: 0.24291078746318817\n",
            "Loss at 90 iteration: 0.24227707087993622\n",
            "Test Loss at 90 iteration, Test Loss: 0.39358216524124146 Loss:0.24227707087993622\n",
            "OrderedDict([('weights', tensor([0.3634])), ('bias', tensor([0.2060]))])\n",
            "Loss at 91 iteration: 0.24164722859859467\n",
            "Loss at 92 iteration: 0.24102163314819336\n",
            "Loss at 93 iteration: 0.24040043354034424\n",
            "Loss at 94 iteration: 0.23978206515312195\n",
            "Loss at 95 iteration: 0.23916764557361603\n",
            "Loss at 96 iteration: 0.23855596780776978\n",
            "Loss at 97 iteration: 0.2379479557275772\n",
            "Loss at 98 iteration: 0.23734237253665924\n",
            "Loss at 99 iteration: 0.2367418259382248\n"
          ]
        }
      ],
      "source": [
        "torch.manual_seed(42)\n",
        "epochs = 100\n",
        "\n",
        "# Track different values\n",
        "epoch_count = []\n",
        "loss_values = []\n",
        "test_loss_values = []\n",
        "\n",
        "\n",
        "# Loop through the data\n",
        "for epoch in range(epochs):\n",
        "  # Set the model to training mode\n",
        "  model_0.train()\n",
        "  y_preds = model_0(X_train)\n",
        "  loss = loss_fn(y_preds,y_train)\n",
        "  print(f\"Loss at {epoch} iteration: {loss}\")\n",
        "  optimizer.zero_grad()\n",
        "  loss.backward()\n",
        "  optimizer.step()\n",
        "  model_0.eval() #\n",
        "  with torch.inference_mode():\n",
        "    test_preds = model_0(X_test)\n",
        "    test_loss = loss_fn(test_preds,y_test)\n",
        "  if epoch % 10 == 0:\n",
        "    epoch_count.append(epoch)\n",
        "    loss_values.append(loss)\n",
        "    test_loss_values.append(test_loss)\n",
        "    print(f\"Test Loss at {epoch} iteration, Test Loss: {test_loss} Loss:{loss}\")\n",
        "    print(model_0.state_dict())\n"
      ]
    },
    {
      "cell_type": "code",
      "execution_count": 21,
      "metadata": {
        "colab": {
          "base_uri": "https://localhost:8080/",
          "height": 599
        },
        "id": "tDneaqFUAEzl",
        "outputId": "f394ee96-1a71-4dc9-eb9f-57c50bd66b1e"
      },
      "outputs": [
        {
          "output_type": "display_data",
          "data": {
            "text/plain": [
              "<Figure size 1000x700 with 1 Axes>"
            ],
            "image/png": "[encoded data removed]"
          },
          "metadata": {}
        }
      ],
      "source": [
        "with torch.inference_mode():\n",
        "  y_preds = model_0(X_test)\n",
        "plot_predictions(X_train,y_train,X_test,y_test,y_preds)"
      ]
    },
    {
      "cell_type": "code",
      "execution_count": 22,
      "metadata": {
        "colab": {
          "base_uri": "https://localhost:8080/"
        },
        "id": "m0wa1oWa9yfq",
        "outputId": "db837a24-dc15-42f5-91da-6f092f6736e7"
      },
      "outputs": [
        {
          "output_type": "execute_result",
          "data": {
            "text/plain": [
              "OrderedDict([('weights', tensor([0.3655])), ('bias', tensor([0.2127]))])"
            ]
          },
          "metadata": {},
          "execution_count": 22
        }
      ],
      "source": [
        "model_0.state_dict()"
      ]
    },
    {
      "cell_type": "code",
      "execution_count": 23,
      "metadata": {
        "colab": {
          "base_uri": "https://localhost:8080/"
        },
        "id": "-4vW8m_7f87D",
        "outputId": "c8050797-d024-4d44-b915-eb052d55ddc2"
      },
      "outputs": [
        {
          "output_type": "execute_result",
          "data": {
            "text/plain": [
              "OrderedDict([('weights', tensor([0.3655])), ('bias', tensor([0.2127]))])"
            ]
          },
          "metadata": {},
          "execution_count": 23
        }
      ],
      "source": [
        "model_0.state_dict()"
      ]
    },
    {
      "cell_type": "code",
      "execution_count": 24,
      "metadata": {
        "colab": {
          "base_uri": "https://localhost:8080/"
        },
        "id": "t4fgw8L38pCa",
        "outputId": "5a29b496-32f1-41e2-b32b-26f42f9ee19d"
      },
      "outputs": [
        {
          "output_type": "execute_result",
          "data": {
            "text/plain": [
              "list"
            ]
          },
          "metadata": {},
          "execution_count": 24
        }
      ],
      "source": [
        "type(loss_values)"
      ]
    },
    {
      "cell_type": "code",
      "execution_count": 25,
      "metadata": {
        "colab": {
          "base_uri": "https://localhost:8080/",
          "height": 472
        },
        "id": "bKUxg5N56oZg",
        "outputId": "e8bb0aea-eae3-478b-f56e-54fce3b33ff1"
      },
      "outputs": [
        {
          "output_type": "display_data",
          "data": {
            "text/plain": [
              "<Figure size 640x480 with 1 Axes>"
            ],
            "image/png": "[encoded data removed]"
          },
          "metadata": {}
        }
      ],
      "source": [
        "## Plot the Loss Count\n",
        "plt.plot(epoch_count,torch.tensor(loss_values).cpu().numpy(),label=\"train loss\")\n",
        "plt.plot(epoch_count,torch.tensor(test_loss_values).cpu().numpy(),label=\"test loss\")\n",
        "plt.title(\"Training and Testing Loss\")\n",
        "plt.ylabel(\"Loss\")\n",
        "plt.xlabel(\"Epochs\")\n",
        "plt.legend()\n",
        "plt.show()"
      ]
    },
    {
      "cell_type": "code",
      "execution_count": 26,
      "metadata": {
        "id": "tX24dbr66uZM"
      },
      "outputs": [],
      "source": [
        "## Saving our model for reuse\n",
        "## Three main methods we can use to save pytorch model\n",
        "## torch.save()  save pytorch object in python's pickle format\n",
        "## torch.load allows you to load pytorch object\n",
        "## torch.nn.Module.load_state_dict() this allows you to load model's saved state dictionary\n",
        "\n",
        "from pathlib import Path\n",
        "MODEL_PATH = Path(\"models\")\n",
        "MODEL_PATH.mkdir(parents=True,exist_ok=True)\n",
        "\n",
        "MODEL_NAME = \"01_pytorch_workflow_model_0.pth\"\n",
        "MODEL_SAVE_PATH = MODEL_PATH / MODEL_NAME\n",
        "\n",
        "# save the model\n",
        "torch.save(obj=model_0.state_dict(),f=MODEL_SAVE_PATH)"
      ]
    },
    {
      "cell_type": "code",
      "execution_count": 27,
      "metadata": {
        "colab": {
          "base_uri": "https://localhost:8080/"
        },
        "id": "RlZYc59daGvP",
        "outputId": "6b548061-7769-4238-d169-7cf098280be8"
      },
      "outputs": [
        {
          "output_type": "stream",
          "name": "stdout",
          "text": [
            "total 4\n",
            "-rw-r--r-- 1 root root 1680 Sep 12 11:03 01_pytorch_workflow_model_0.pth\n"
          ]
        }
      ],
      "source": [
        "# checkout dictory\n",
        "!ls -l models"
      ]
    },
    {
      "cell_type": "code",
      "execution_count": 28,
      "metadata": {
        "colab": {
          "base_uri": "https://localhost:8080/"
        },
        "id": "5Iu_DAThbSfK",
        "outputId": "58ee5b70-f635-420c-8da5-4a544f76b03d"
      },
      "outputs": [
        {
          "output_type": "stream",
          "name": "stderr",
          "text": [
            "<ipython-input-28-efa47fa4adf0>:3: FutureWarning: You are using `torch.load` with `weights_only=False` (the current default value), which uses the default pickle module implicitly. It is possible to construct malicious pickle data which will execute arbitrary code during unpickling (See https://github.com/pytorch/pytorch/blob/main/SECURITY.md#untrusted-models for more details). In a future release, the default value for `weights_only` will be flipped to `True`. This limits the functions that could be executed during unpickling. Arbitrary objects will no longer be allowed to be loaded via this mode unless they are explicitly allowlisted by the user via `torch.serialization.add_safe_globals`. We recommend you start setting `weights_only=True` for any use case where you don't have full control of the loaded file. Please open an issue on GitHub for any issues related to this experimental feature.\n",
            "  loaded_model_0.load_state_dict(torch.load(f=MODEL_SAVE_PATH))\n"
          ]
        },
        {
          "output_type": "execute_result",
          "data": {
            "text/plain": [
              "OrderedDict([('weights', tensor([0.3655])), ('bias', tensor([0.2127]))])"
            ]
          },
          "metadata": {},
          "execution_count": 28
        }
      ],
      "source": [
        "# Since we load the state dict of our model rather than entire model, we will create new instance of model with same state_dict() parameters\n",
        "loaded_model_0 = LinearRegressionModel()\n",
        "loaded_model_0.load_state_dict(torch.load(f=MODEL_SAVE_PATH))\n",
        "loaded_model_0.state_dict()"
      ]
    },
    {
      "cell_type": "code",
      "execution_count": 29,
      "metadata": {
        "colab": {
          "base_uri": "https://localhost:8080/"
        },
        "id": "eQxNXiJUeKdb",
        "outputId": "43a43c38-8dd7-4034-d704-9af61b972f4b"
      },
      "outputs": [
        {
          "output_type": "stream",
          "name": "stdout",
          "text": [
            "tensor([0.5051, 0.5124, 0.5197, 0.5271, 0.5344, 0.5417, 0.5490, 0.5563, 0.5636,\n",
            "        0.5709])\n"
          ]
        }
      ],
      "source": [
        "# make some predictions\n",
        "loaded_model_0.eval()\n",
        "with torch.inference_mode():\n",
        "  y_preds = loaded_model_0(X_test)\n",
        "print(y_preds.squeeze())"
      ]
    },
    {
      "cell_type": "code",
      "execution_count": 30,
      "metadata": {
        "colab": {
          "base_uri": "https://localhost:8080/",
          "height": 599
        },
        "id": "5RcSMj-jiGet",
        "outputId": "0c2240e0-cf3f-42d4-ee92-763bd49bc968"
      },
      "outputs": [
        {
          "output_type": "display_data",
          "data": {
            "text/plain": [
              "<Figure size 1000x700 with 1 Axes>"
            ],
            "image/png": "[encoded data removed]"
          },
          "metadata": {}
        }
      ],
      "source": [
        "plot_predictions(X_train,y_train,X_test,y_test,y_preds)"
      ]
    },
    {
      "cell_type": "markdown",
      "metadata": {
        "id": "MbnQ_sveiKYH"
      },
      "source": [
        "## Put all together we have done so far"
      ]
    },
    {
      "cell_type": "code",
      "execution_count": 31,
      "metadata": {
        "colab": {
          "base_uri": "https://localhost:8080/",
          "height": 35
        },
        "id": "kQp2liD1Mha2",
        "outputId": "a7511f5f-7123-4be8-b58f-2f9121ba753f"
      },
      "outputs": [
        {
          "output_type": "execute_result",
          "data": {
            "text/plain": [
              "'cuda'"
            ],
            "application/vnd.google.colaboratory.intrinsic+json": {
              "type": "string"
            }
          },
          "metadata": {},
          "execution_count": 31
        }
      ],
      "source": [
        "### Create Device-agnotic code\n",
        "device = \"cuda\" if torch.cuda.is_available() else \"cpu\"\n",
        "device"
      ]
    },
    {
      "cell_type": "code",
      "execution_count": 32,
      "metadata": {
        "id": "BCe0uJXVNhPZ"
      },
      "outputs": [],
      "source": [
        "# create parameters with some random value of your choice\n",
        "weight = 0.7\n",
        "bias = 0.3\n",
        "\n",
        "# create range values\n",
        "start = 0\n",
        "end = 1\n",
        "step = 0.02\n",
        "\n",
        "# create X and y (features and labels)\n",
        "X = torch.arange(start,end,step).unsqueeze(dim=1)\n",
        "y = (weight * X) + bias"
      ]
    },
    {
      "cell_type": "code",
      "execution_count": 33,
      "metadata": {
        "colab": {
          "base_uri": "https://localhost:8080/"
        },
        "id": "Or13Ekn2PWil",
        "outputId": "38d2e39d-a8ed-4fbe-95de-7977bb69363a"
      },
      "outputs": [
        {
          "output_type": "execute_result",
          "data": {
            "text/plain": [
              "(tensor([[0.0000],\n",
              "         [0.0200],\n",
              "         [0.0400],\n",
              "         [0.0600],\n",
              "         [0.0800],\n",
              "         [0.1000],\n",
              "         [0.1200],\n",
              "         [0.1400],\n",
              "         [0.1600],\n",
              "         [0.1800]]),\n",
              " tensor([[0.3000],\n",
              "         [0.3140],\n",
              "         [0.3280],\n",
              "         [0.3420],\n",
              "         [0.3560],\n",
              "         [0.3700],\n",
              "         [0.3840],\n",
              "         [0.3980],\n",
              "         [0.4120],\n",
              "         [0.4260]]))"
            ]
          },
          "metadata": {},
          "execution_count": 33
        }
      ],
      "source": [
        "X[:10],y[:10]"
      ]
    },
    {
      "cell_type": "code",
      "execution_count": 34,
      "metadata": {
        "colab": {
          "base_uri": "https://localhost:8080/"
        },
        "id": "q9aP13nBPmwB",
        "outputId": "cbeb15c1-bc54-4582-c934-3b0800f28ff4"
      },
      "outputs": [
        {
          "output_type": "execute_result",
          "data": {
            "text/plain": [
              "(40, 10)"
            ]
          },
          "metadata": {},
          "execution_count": 34
        }
      ],
      "source": [
        "train_split = int(0.8*len(X))\n",
        "test_split = int(0.2*len(X))\n",
        "train_split,test_split"
      ]
    },
    {
      "cell_type": "code",
      "execution_count": 35,
      "metadata": {
        "colab": {
          "base_uri": "https://localhost:8080/"
        },
        "id": "TJljczJtQFrr",
        "outputId": "cf9e5113-f893-47ed-9709-e448bd5866cb"
      },
      "outputs": [
        {
          "output_type": "execute_result",
          "data": {
            "text/plain": [
              "(torch.Size([40, 1]),\n",
              " torch.Size([10, 1]),\n",
              " torch.Size([40, 1]),\n",
              " torch.Size([10, 1]))"
            ]
          },
          "metadata": {},
          "execution_count": 35
        }
      ],
      "source": [
        "X_train,y_train = X[:train_split],y[:train_split]\n",
        "X_test,y_test = X[train_split:],y[train_split:]\n",
        "X_train.shape,X_test.shape,y_train.shape,y_test.shape"
      ]
    },
    {
      "cell_type": "code",
      "execution_count": 36,
      "metadata": {
        "colab": {
          "base_uri": "https://localhost:8080/",
          "height": 599
        },
        "id": "Ej3Qnum1QjgF",
        "outputId": "14359182-c328-49a4-a461-f26b51075f67"
      },
      "outputs": [
        {
          "output_type": "display_data",
          "data": {
            "text/plain": [
              "<Figure size 1000x700 with 1 Axes>"
            ],
            "image/png": "[encoded data removed]"
          },
          "metadata": {}
        }
      ],
      "source": [
        "plot_predictions(X_train,y_train,X_test,y_test)"
      ]
    },
    {
      "cell_type": "markdown",
      "metadata": {
        "id": "sOHLPX8wRC02"
      },
      "source": [
        "## Building a Pytorch Linear Model"
      ]
    },
    {
      "cell_type": "code",
      "execution_count": 37,
      "metadata": {
        "colab": {
          "base_uri": "https://localhost:8080/"
        },
        "id": "U8wz6nW8Rm23",
        "outputId": "101b7d9a-47e4-4f54-a496-24d3bf7b4d19"
      },
      "outputs": [
        {
          "output_type": "execute_result",
          "data": {
            "text/plain": [
              "(LinearRegressionModelV2(\n",
              "   (linear_layer): Linear(in_features=1, out_features=1, bias=True)\n",
              " ),\n",
              " OrderedDict([('linear_layer.weight', tensor([[0.7645]])),\n",
              "              ('linear_layer.bias', tensor([0.8300]))]))"
            ]
          },
          "metadata": {},
          "execution_count": 37
        }
      ],
      "source": [
        "## creating a linear model by subclassing nn.Module\n",
        "## in the Past we created nn.Parameters by ourself manually but one step ahead when we create nn.linear (linear_layer) it by default have its own\n",
        "## parameters so we don't need it.\n",
        "class LinearRegressionModelV2(nn.Module):\n",
        "  def __init__(self):\n",
        "    super().__init__()\n",
        "    ## Use nn.linear layer for creating model parameters\n",
        "    ## it applies linear regression on our model / also called linear transformation,probing layer,fully connected layer,dense layer\n",
        "    self.linear_layer = nn.Linear(in_features=1, # input of size 1\n",
        "                                  out_features=1, # output of size 1\n",
        "                                )\n",
        "\n",
        "  def forward(self,x) -> torch.Tensor:\n",
        "      return self.linear_layer(x)\n",
        "\n",
        "# Set the manual seed\n",
        "torch.manual_seed(42)\n",
        "model_1 = LinearRegressionModelV2()\n",
        "model_1,model_1.state_dict()"
      ]
    },
    {
      "cell_type": "code",
      "execution_count": 38,
      "metadata": {
        "colab": {
          "base_uri": "https://localhost:8080/"
        },
        "id": "GEjisQb8Uepg",
        "outputId": "b50897b3-908f-4f35-9d8b-e7f6d86a5ad3"
      },
      "outputs": [
        {
          "output_type": "execute_result",
          "data": {
            "text/plain": [
              "device(type='cpu')"
            ]
          },
          "metadata": {},
          "execution_count": 38
        }
      ],
      "source": [
        "next(model_1.parameters()).device"
      ]
    },
    {
      "cell_type": "code",
      "execution_count": 39,
      "metadata": {
        "colab": {
          "base_uri": "https://localhost:8080/"
        },
        "id": "D2KCxbh4XWFC",
        "outputId": "cf1dc8da-b891-4386-975f-1a106f589de3"
      },
      "outputs": [
        {
          "output_type": "execute_result",
          "data": {
            "text/plain": [
              "device(type='cpu')"
            ]
          },
          "metadata": {},
          "execution_count": 39
        }
      ],
      "source": [
        "model_1.to('cpu')\n",
        "next(model_1.parameters()).device"
      ]
    },
    {
      "cell_type": "code",
      "execution_count": 40,
      "metadata": {
        "colab": {
          "base_uri": "https://localhost:8080/"
        },
        "id": "T9U4pbMsZAoJ",
        "outputId": "86f7c6d3-95c9-4986-e98a-22fe50166489"
      },
      "outputs": [
        {
          "output_type": "execute_result",
          "data": {
            "text/plain": [
              "OrderedDict([('linear_layer.weight', tensor([[0.7645]])),\n",
              "             ('linear_layer.bias', tensor([0.8300]))])"
            ]
          },
          "metadata": {},
          "execution_count": 40
        }
      ],
      "source": [
        "model_1.state_dict()"
      ]
    },
    {
      "cell_type": "markdown",
      "metadata": {
        "id": "svQF6emVXmBO"
      },
      "source": [
        "## Training Code"
      ]
    },
    {
      "cell_type": "code",
      "execution_count": 41,
      "metadata": {
        "id": "L8dcRkmnYAsb"
      },
      "outputs": [],
      "source": [
        "## Setup the Loss Function\n",
        "loss_fn = nn.L1Loss() # Same as MAE\n",
        "\n",
        "optimizer = torch.optim.SGD(params=model_1.parameters(),lr=0.01)\n"
      ]
    },
    {
      "cell_type": "code",
      "execution_count": 42,
      "metadata": {
        "colab": {
          "base_uri": "https://localhost:8080/"
        },
        "id": "GbPr9LUJdHMH",
        "outputId": "325e1707-b934-4c7a-eb32-7bb936c5a4a2"
      },
      "outputs": [
        {
          "output_type": "execute_result",
          "data": {
            "text/plain": [
              "(40, 10, 40, 10)"
            ]
          },
          "metadata": {},
          "execution_count": 42
        }
      ],
      "source": [
        "len(X_train),len(X_test),len(y_train),len(y_test)"
      ]
    },
    {
      "cell_type": "code",
      "execution_count": 43,
      "metadata": {
        "colab": {
          "base_uri": "https://localhost:8080/"
        },
        "id": "ffMrNYGneM5X",
        "outputId": "b2de434a-2335-4ad6-bfdb-d97541d27bbe"
      },
      "outputs": [
        {
          "output_type": "execute_result",
          "data": {
            "text/plain": [
              "(device(type='cpu'),\n",
              " device(type='cpu'),\n",
              " device(type='cpu'),\n",
              " device(type='cpu'))"
            ]
          },
          "metadata": {},
          "execution_count": 43
        }
      ],
      "source": [
        "X_train.device,y_train.device,X_test.device,y_test.device"
      ]
    },
    {
      "cell_type": "code",
      "source": [
        "for param in model_1.parameters():\n",
        "    print(param.device)\n"
      ],
      "metadata": {
        "colab": {
          "base_uri": "https://localhost:8080/"
        },
        "id": "nmVZs0kpiO1G",
        "outputId": "e7396d83-b275-4eef-f959-516b7e2e4bd2"
      },
      "execution_count": 44,
      "outputs": [
        {
          "output_type": "stream",
          "name": "stdout",
          "text": [
            "cpu\n",
            "cpu\n"
          ]
        }
      ]
    },
    {
      "cell_type": "code",
      "execution_count": 45,
      "metadata": {
        "colab": {
          "base_uri": "https://localhost:8080/"
        },
        "id": "o4QwCLjlYzgs",
        "outputId": "9cc00cc9-9ab4-4c0a-86d3-5bd646b6c024"
      },
      "outputs": [
        {
          "output_type": "stream",
          "name": "stdout",
          "text": [
            "Epoch: 0 | Loss: 0.5551779866218567 | Test Loss: 0.5739762187004089\n",
            "Epoch: 10 | Loss: 0.4399680495262146 | Test Loss: 0.4392663538455963\n",
            "Epoch: 20 | Loss: 0.3247582018375397 | Test Loss: 0.30455657839775085\n",
            "Epoch: 30 | Loss: 0.20954827964305878 | Test Loss: 0.16984674334526062\n",
            "Epoch: 40 | Loss: 0.09433844685554504 | Test Loss: 0.03513689711689949\n",
            "Epoch: 50 | Loss: 0.023886386305093765 | Test Loss: 0.04784906655550003\n",
            "Epoch: 60 | Loss: 0.0199567973613739 | Test Loss: 0.04580312222242355\n",
            "Epoch: 70 | Loss: 0.016517987474799156 | Test Loss: 0.0375305712223053\n",
            "Epoch: 80 | Loss: 0.013089170679450035 | Test Loss: 0.029944902285933495\n",
            "Epoch: 90 | Loss: 0.009653178043663502 | Test Loss: 0.02167237363755703\n",
            "Epoch: 100 | Loss: 0.006215679459273815 | Test Loss: 0.014086711220443249\n",
            "Epoch: 110 | Loss: 0.002787243574857712 | Test Loss: 0.005814164876937866\n",
            "Epoch: 120 | Loss: 0.0012645035749301314 | Test Loss: 0.013801807537674904\n",
            "Epoch: 130 | Loss: 0.0012645035749301314 | Test Loss: 0.013801807537674904\n",
            "Epoch: 140 | Loss: 0.0012645035749301314 | Test Loss: 0.013801807537674904\n",
            "Epoch: 150 | Loss: 0.0012645035749301314 | Test Loss: 0.013801807537674904\n",
            "Epoch: 160 | Loss: 0.0012645035749301314 | Test Loss: 0.013801807537674904\n",
            "Epoch: 170 | Loss: 0.0012645035749301314 | Test Loss: 0.013801807537674904\n",
            "Epoch: 180 | Loss: 0.0012645035749301314 | Test Loss: 0.013801807537674904\n",
            "Epoch: 190 | Loss: 0.0012645035749301314 | Test Loss: 0.013801807537674904\n"
          ]
        }
      ],
      "source": [
        "# Lets write a training loop\n",
        "torch.manual_seed(42)\n",
        "epochs = 200\n",
        "X_train = X_train.to('cpu')\n",
        "y_train = y_train.to('cpu')\n",
        "X_test = X_test.to('cpu')\n",
        "y_test = y_test.to('cpu')\n",
        "for epoch in range(epochs):\n",
        "  model_1.train()\n",
        "\n",
        "  # forward pass\n",
        "  y_preds = model_1(X_train)\n",
        "\n",
        "  # Calculate the loss\n",
        "  loss = loss_fn(y_preds,y_train)\n",
        "\n",
        "  # zero the optimzer\n",
        "  optimizer.zero_grad()\n",
        "\n",
        "  #BackPropagation here\n",
        "  loss.backward()\n",
        "\n",
        "  # optimizer step\n",
        "  optimizer.step() # it sets the model parameters\n",
        "\n",
        "  # testing\n",
        "  model_1.eval()\n",
        "  with torch.inference_mode():\n",
        "    test_preds = model_1(X_test)\n",
        "    test_loss = loss_fn(test_preds,y_test)\n",
        "\n",
        "  if epoch % 10 == 0:\n",
        "    print(f\"Epoch: {epoch} | Loss: {loss} | Test Loss: {test_loss}\")\n",
        "\n",
        "## Keep in mind we have put our model on gpu and tensor data is still on cpu which will cause error/confliction we have to put our tensor datat to gpu.\n",
        "\n"
      ]
    },
    {
      "cell_type": "code",
      "execution_count": 46,
      "metadata": {
        "id": "gx-UzzrYcl6L",
        "colab": {
          "base_uri": "https://localhost:8080/"
        },
        "outputId": "3a93a866-4380-44fd-ccbe-e1dae86bb74b"
      },
      "outputs": [
        {
          "output_type": "execute_result",
          "data": {
            "text/plain": [
              "40"
            ]
          },
          "metadata": {},
          "execution_count": 46
        }
      ],
      "source": [
        "y_preds = model_1(X_train)\n",
        "len(y_preds)"
      ]
    },
    {
      "cell_type": "code",
      "source": [
        "model_1.state_dict()"
      ],
      "metadata": {
        "colab": {
          "base_uri": "https://localhost:8080/"
        },
        "id": "F1-TcQuJjbzp",
        "outputId": "10d297c8-8206-4a0e-bdbd-4fa9d0308f9b"
      },
      "execution_count": 47,
      "outputs": [
        {
          "output_type": "execute_result",
          "data": {
            "text/plain": [
              "OrderedDict([('linear_layer.weight', tensor([[0.6968]])),\n",
              "             ('linear_layer.bias', tensor([0.3025]))])"
            ]
          },
          "metadata": {},
          "execution_count": 47
        }
      ]
    },
    {
      "cell_type": "markdown",
      "source": [
        "## Making and evaluating predictions"
      ],
      "metadata": {
        "id": "RP18qhBek4pK"
      }
    },
    {
      "cell_type": "code",
      "source": [
        "model_1.eval()\n",
        "with torch.inference_mode():\n",
        "  y_preds = model_1(X_test)"
      ],
      "metadata": {
        "id": "vDg4WS1zo2En"
      },
      "execution_count": 48,
      "outputs": []
    },
    {
      "cell_type": "code",
      "source": [
        "plot_predictions(X_train,y_train,X_test,y_test,y_preds)"
      ],
      "metadata": {
        "colab": {
          "base_uri": "https://localhost:8080/",
          "height": 599
        },
        "id": "CGvjFhOI57Jb",
        "outputId": "85a62eb1-a0b8-4561-8567-213d18af67c1"
      },
      "execution_count": 49,
      "outputs": [
        {
          "output_type": "display_data",
          "data": {
            "text/plain": [
              "<Figure size 1000x700 with 1 Axes>"
            ],
            "image/png": "[encoded data removed]"
          },
          "metadata": {}
        }
      ]
    },
    {
      "cell_type": "markdown",
      "source": [
        "## Saving and Loading Model"
      ],
      "metadata": {
        "id": "Ea-99-II6DBx"
      }
    },
    {
      "cell_type": "code",
      "source": [
        "## Saving our model for reuse\n",
        "## Three main methods we can use to save pytorch model\n",
        "## torch.save()  save pytorch object in python's pickle format\n",
        "## torch.load allows you to load pytorch object\n",
        "## torch.nn.Module.load_state_dict() this allows you to load model's saved state dictionary\n",
        "\n",
        "from pathlib import Path\n",
        "MODEL_PATH = Path(\"models\")\n",
        "MODEL_PATH.mkdir(parents=True,exist_ok=True)\n",
        "\n",
        "MODEL_NAME = \"01_pytorch_workflow_model_1.pth\"\n",
        "MODEL_SAVE_PATH = MODEL_PATH / MODEL_NAME\n",
        "\n",
        "# save the model\n",
        "torch.save(obj=model_1.state_dict(),f=MODEL_SAVE_PATH)"
      ],
      "metadata": {
        "id": "jDEBXf_P7__W"
      },
      "execution_count": 55,
      "outputs": []
    },
    {
      "cell_type": "code",
      "source": [
        "!ls -l models"
      ],
      "metadata": {
        "colab": {
          "base_uri": "https://localhost:8080/"
        },
        "id": "CG0wfNTS8pNc",
        "outputId": "e45ae51f-dd12-43c8-da31-decbd0df08e4"
      },
      "execution_count": 56,
      "outputs": [
        {
          "output_type": "stream",
          "name": "stdout",
          "text": [
            "total 8\n",
            "-rw-r--r-- 1 root root 1680 Sep 12 11:14 01_pytorch_workflow_model_0.pth\n",
            "-rw-r--r-- 1 root root 1744 Sep 12 11:16 01_pytorch_workflow_model_1.pth\n"
          ]
        }
      ]
    },
    {
      "cell_type": "code",
      "source": [
        "# Since we load the state dict of our model rather than entire model, we will create new instance of model with same state_dict() parameters\n",
        "loaded_model_1 = LinearRegressionModelV2()\n",
        "loaded_model_1.load_state_dict(torch.load(f=MODEL_SAVE_PATH))\n",
        "loaded_model_1.state_dict()"
      ],
      "metadata": {
        "colab": {
          "base_uri": "https://localhost:8080/"
        },
        "id": "zz0GYYjs8V-A",
        "outputId": "29817a92-dc07-4da4-a8be-1dd12356bffc"
      },
      "execution_count": 57,
      "outputs": [
        {
          "output_type": "stream",
          "name": "stderr",
          "text": [
            "<ipython-input-57-30240823194a>:3: FutureWarning: You are using `torch.load` with `weights_only=False` (the current default value), which uses the default pickle module implicitly. It is possible to construct malicious pickle data which will execute arbitrary code during unpickling (See https://github.com/pytorch/pytorch/blob/main/SECURITY.md#untrusted-models for more details). In a future release, the default value for `weights_only` will be flipped to `True`. This limits the functions that could be executed during unpickling. Arbitrary objects will no longer be allowed to be loaded via this mode unless they are explicitly allowlisted by the user via `torch.serialization.add_safe_globals`. We recommend you start setting `weights_only=True` for any use case where you don't have full control of the loaded file. Please open an issue on GitHub for any issues related to this experimental feature.\n",
            "  loaded_model_1.load_state_dict(torch.load(f=MODEL_SAVE_PATH))\n"
          ]
        },
        {
          "output_type": "execute_result",
          "data": {
            "text/plain": [
              "OrderedDict([('linear_layer.weight', tensor([[0.6968]])),\n",
              "             ('linear_layer.bias', tensor([0.3025]))])"
            ]
          },
          "metadata": {},
          "execution_count": 57
        }
      ]
    },
    {
      "cell_type": "code",
      "source": [
        "model_1.eval()\n",
        "with torch.inference_mode():\n",
        "  y_preds_new = loaded_model_1(X_test)\n",
        "plot_predictions(X_train,y_train,X_test,y_test,y_preds_new)"
      ],
      "metadata": {
        "colab": {
          "base_uri": "https://localhost:8080/",
          "height": 599
        },
        "id": "jq82MdPu8hyt",
        "outputId": "c408b1c5-40e4-4833-f9e6-ce5c84b3ba2f"
      },
      "execution_count": 58,
      "outputs": [
        {
          "output_type": "display_data",
          "data": {
            "text/plain": [
              "<Figure size 1000x700 with 1 Axes>"
            ],
            "image/png": "[encoded data removed]"
          },
          "metadata": {}
        }
      ]
    },
    {
      "cell_type": "code",
      "source": [
        "y_preds_new == y_preds"
      ],
      "metadata": {
        "colab": {
          "base_uri": "https://localhost:8080/"
        },
        "id": "zuerbEHs9CdV",
        "outputId": "0143d559-f121-47ed-fb7f-2fa8067740c6"
      },
      "execution_count": 59,
      "outputs": [
        {
          "output_type": "execute_result",
          "data": {
            "text/plain": [
              "tensor([[True],\n",
              "        [True],\n",
              "        [True],\n",
              "        [True],\n",
              "        [True],\n",
              "        [True],\n",
              "        [True],\n",
              "        [True],\n",
              "        [True],\n",
              "        [True]])"
            ]
          },
          "metadata": {},
          "execution_count": 59
        }
      ]
    },
    {
      "cell_type": "code",
      "source": [],
      "metadata": {
        "id": "3a5J0uQWDJj3"
      },
      "execution_count": null,
      "outputs": []
    }
  ],
  "metadata": {
    "accelerator": "GPU",
    "colab": {
      "gpuType": "T4",
      "provenance": [],
      "authorship_tag": "ABX9TyPc27XC7hOvwzXJOeBj1OmX",
      "include_colab_link": true
    },
    "kernelspec": {
      "display_name": "Python 3",
      "name": "python3"
    },
    "language_info": {
      "name": "python"
    }
  },
  "nbformat": 4,
  "nbformat_minor": 0
}