{
  "nbformat": 4,
  "nbformat_minor": 0,
  "metadata": {
    "colab": {
      "provenance": [],
      "gpuType": "T4",
      "authorship_tag": "ABX9TyNL9/iPPC1YZfk+bEWjWOcl",
      "include_colab_link": true
    },
    "kernelspec": {
      "name": "python3",
      "display_name": "Python 3"
    },
    "language_info": {
      "name": "python"
    },
    "accelerator": "GPU"
  },
  "cells": [
    {
      "cell_type": "markdown",
      "metadata": {
        "id": "view-in-github",
        "colab_type": "text"
      },
      "source": [
        "<a href=\"https://colab.research.google.com/github/PyCraftMusadaq/TensorFlowCodes/blob/main/00_Pytorch_course.ipynb\" target=\"_parent\"><img src=\"https://colab.research.google.com/assets/colab-badge.svg\" alt=\"Open In Colab\"/></a>"
      ]
    },
    {
      "cell_type": "code",
      "execution_count": 1,
      "metadata": {
        "colab": {
          "base_uri": "https://localhost:8080/"
        },
        "id": "5l3PrLeCjo4U",
        "outputId": "fc6dbc55-b731-497b-9ef3-ac9f5dc3652e"
      },
      "outputs": [
        {
          "output_type": "stream",
          "name": "stdout",
          "text": [
            "2.4.0+cu121\n"
          ]
        }
      ],
      "source": [
        "import torch\n",
        "import pandas as pd\n",
        "import numpy as np\n",
        "import matplotlib.pyplot as plt\n",
        "print(torch.__version__)"
      ]
    },
    {
      "cell_type": "code",
      "source": [
        "!nvidia-smi"
      ],
      "metadata": {
        "id": "mt43A9Shjzt1",
        "colab": {
          "base_uri": "https://localhost:8080/"
        },
        "outputId": "9c508cbc-3815-43bd-e41f-48c2c0e579dd"
      },
      "execution_count": null,
      "outputs": [
        {
          "output_type": "stream",
          "name": "stdout",
          "text": [
            "/bin/bash: line 1: nvidia-smi: command not found\n"
          ]
        }
      ]
    },
    {
      "cell_type": "markdown",
      "source": [
        "# Introduction to Tensors"
      ],
      "metadata": {
        "id": "bh_WbYWm85TA"
      }
    },
    {
      "cell_type": "code",
      "source": [
        "# scalers\n",
        "scaler = torch.tensor(7)\n",
        "scaler"
      ],
      "metadata": {
        "colab": {
          "base_uri": "https://localhost:8080/"
        },
        "id": "mTzFT4iG-XUY",
        "outputId": "9d786f42-f34c-4eef-bce8-b98034ba5cb2"
      },
      "execution_count": null,
      "outputs": [
        {
          "output_type": "execute_result",
          "data": {
            "text/plain": [
              "tensor(7)"
            ]
          },
          "metadata": {},
          "execution_count": 9
        }
      ]
    },
    {
      "cell_type": "code",
      "source": [
        "scaler.ndim"
      ],
      "metadata": {
        "colab": {
          "base_uri": "https://localhost:8080/"
        },
        "id": "6kLVwTk0-YcA",
        "outputId": "9724ccea-b3d1-4a86-89aa-01e5d32426f9"
      },
      "execution_count": null,
      "outputs": [
        {
          "output_type": "execute_result",
          "data": {
            "text/plain": [
              "0"
            ]
          },
          "metadata": {},
          "execution_count": 10
        }
      ]
    },
    {
      "cell_type": "code",
      "source": [
        "type(scaler)"
      ],
      "metadata": {
        "colab": {
          "base_uri": "https://localhost:8080/"
        },
        "id": "kfptYbjl-8Uv",
        "outputId": "04aaea0a-06d3-4c9f-9d30-25ea9ff4db80"
      },
      "execution_count": null,
      "outputs": [
        {
          "output_type": "execute_result",
          "data": {
            "text/plain": [
              "torch.Tensor"
            ]
          },
          "metadata": {},
          "execution_count": 11
        }
      ]
    },
    {
      "cell_type": "code",
      "source": [
        "# regular integer back from tensor\n",
        "type(scaler.item())"
      ],
      "metadata": {
        "colab": {
          "base_uri": "https://localhost:8080/"
        },
        "id": "_iilX8Sv_Ia7",
        "outputId": "0788d8ff-acb2-4b8e-9a88-deec160d9ddc"
      },
      "execution_count": null,
      "outputs": [
        {
          "output_type": "execute_result",
          "data": {
            "text/plain": [
              "int"
            ]
          },
          "metadata": {},
          "execution_count": 12
        }
      ]
    },
    {
      "cell_type": "code",
      "source": [
        "# vector\n",
        "vector = torch.tensor([1,2,3,4,5])\n",
        "vector"
      ],
      "metadata": {
        "colab": {
          "base_uri": "https://localhost:8080/"
        },
        "id": "d1c13Cq2_Pda",
        "outputId": "bb2fe8ef-d769-4d8d-b970-a1feda1fb4f0"
      },
      "execution_count": null,
      "outputs": [
        {
          "output_type": "execute_result",
          "data": {
            "text/plain": [
              "tensor([1, 2, 3, 4, 5])"
            ]
          },
          "metadata": {},
          "execution_count": 13
        }
      ]
    },
    {
      "cell_type": "code",
      "source": [
        "vector.ndim"
      ],
      "metadata": {
        "colab": {
          "base_uri": "https://localhost:8080/"
        },
        "id": "i3Vp0s3O_crM",
        "outputId": "7eadb437-e021-4485-9645-28462b566ddf"
      },
      "execution_count": null,
      "outputs": [
        {
          "output_type": "execute_result",
          "data": {
            "text/plain": [
              "1"
            ]
          },
          "metadata": {},
          "execution_count": 14
        }
      ]
    },
    {
      "cell_type": "code",
      "source": [
        "vector.shape"
      ],
      "metadata": {
        "colab": {
          "base_uri": "https://localhost:8080/"
        },
        "id": "jjY3lAGv_ycu",
        "outputId": "730f5a4e-d979-48e7-d04e-b372b8aa4c62"
      },
      "execution_count": null,
      "outputs": [
        {
          "output_type": "execute_result",
          "data": {
            "text/plain": [
              "torch.Size([5])"
            ]
          },
          "metadata": {},
          "execution_count": 15
        }
      ]
    },
    {
      "cell_type": "code",
      "source": [
        "MATRIX = torch.tensor([[1,2,3,4],[5,6,7,8],[9,10,11,12]])\n",
        "MATRIX,MATRIX.shape,MATRIX.ndim"
      ],
      "metadata": {
        "colab": {
          "base_uri": "https://localhost:8080/"
        },
        "id": "GRqWX6JZ_2Cv",
        "outputId": "54f88483-ef6b-40e4-a207-781808886868"
      },
      "execution_count": null,
      "outputs": [
        {
          "output_type": "execute_result",
          "data": {
            "text/plain": [
              "(tensor([[ 1,  2,  3,  4],\n",
              "         [ 5,  6,  7,  8],\n",
              "         [ 9, 10, 11, 12]]),\n",
              " torch.Size([3, 4]),\n",
              " 2)"
            ]
          },
          "metadata": {},
          "execution_count": 16
        }
      ]
    },
    {
      "cell_type": "code",
      "source": [
        "TENSOR = torch.tensor([[[1,2,3],\n",
        " [4,5,6],\n",
        "  [7,8,9]]])\n",
        "TENSOR,TENSOR.shape,TENSOR.ndim"
      ],
      "metadata": {
        "colab": {
          "base_uri": "https://localhost:8080/"
        },
        "id": "runcaHJiAK4V",
        "outputId": "f0da3970-ea95-422b-810f-c014bc4a0ccd"
      },
      "execution_count": null,
      "outputs": [
        {
          "output_type": "execute_result",
          "data": {
            "text/plain": [
              "(tensor([[[1, 2, 3],\n",
              "          [4, 5, 6],\n",
              "          [7, 8, 9]]]),\n",
              " torch.Size([1, 3, 3]),\n",
              " 3)"
            ]
          },
          "metadata": {},
          "execution_count": 17
        }
      ]
    },
    {
      "cell_type": "code",
      "source": [
        "TENSOR[0]"
      ],
      "metadata": {
        "colab": {
          "base_uri": "https://localhost:8080/"
        },
        "id": "hZ1BMTaPBq9c",
        "outputId": "7858e0c2-53b5-44cd-8c19-eaafc4fe8ee4"
      },
      "execution_count": null,
      "outputs": [
        {
          "output_type": "execute_result",
          "data": {
            "text/plain": [
              "tensor([[1, 2, 3],\n",
              "        [4, 5, 6],\n",
              "        [7, 8, 9]])"
            ]
          },
          "metadata": {},
          "execution_count": 18
        }
      ]
    },
    {
      "cell_type": "markdown",
      "source": [
        "#Creating Random Tensors using Pytorch"
      ],
      "metadata": {
        "id": "NcAtHtl8Ch1C"
      }
    },
    {
      "cell_type": "code",
      "source": [
        "random_tensor = torch.rand(3,4)\n",
        "random_tensor"
      ],
      "metadata": {
        "colab": {
          "base_uri": "https://localhost:8080/"
        },
        "id": "9ZSTr3wnDASu",
        "outputId": "d435172d-31ff-4007-a3e4-21120acc92c4"
      },
      "execution_count": null,
      "outputs": [
        {
          "output_type": "execute_result",
          "data": {
            "text/plain": [
              "tensor([[0.0562, 0.3287, 0.9974, 0.6024],\n",
              "        [0.6785, 0.1695, 0.8050, 0.5028],\n",
              "        [0.1323, 0.8788, 0.3267, 0.5947]])"
            ]
          },
          "metadata": {},
          "execution_count": 9
        }
      ]
    },
    {
      "cell_type": "code",
      "source": [
        "## create a random tensor with similar shape to image\n",
        "image_tensor = torch.rand(size=(224,224,3))\n",
        "image_tensor"
      ],
      "metadata": {
        "colab": {
          "base_uri": "https://localhost:8080/"
        },
        "id": "CrJLuJhnEKfE",
        "outputId": "d15db27c-c414-4206-8007-224701f6c661"
      },
      "execution_count": null,
      "outputs": [
        {
          "output_type": "execute_result",
          "data": {
            "text/plain": [
              "tensor([[[0.8213, 0.8962, 0.1089],\n",
              "         [0.4571, 0.9779, 0.1489],\n",
              "         [0.0973, 0.0163, 0.8376],\n",
              "         ...,\n",
              "         [0.1295, 0.3728, 0.7951],\n",
              "         [0.7178, 0.7223, 0.7639],\n",
              "         [0.8971, 0.3104, 0.9325]],\n",
              "\n",
              "        [[0.5332, 0.4174, 0.6069],\n",
              "         [0.6190, 0.9479, 0.8088],\n",
              "         [0.4000, 0.7916, 0.7990],\n",
              "         ...,\n",
              "         [0.7960, 0.7659, 0.7991],\n",
              "         [0.1139, 0.2752, 0.2639],\n",
              "         [0.7166, 0.9180, 0.7560]],\n",
              "\n",
              "        [[0.5696, 0.5082, 0.4776],\n",
              "         [0.1712, 0.1551, 0.2095],\n",
              "         [0.0815, 0.3831, 0.8234],\n",
              "         ...,\n",
              "         [0.0152, 0.9101, 0.2335],\n",
              "         [0.9349, 0.5491, 0.7927],\n",
              "         [0.1168, 0.0337, 0.1112]],\n",
              "\n",
              "        ...,\n",
              "\n",
              "        [[0.4780, 0.8068, 0.2891],\n",
              "         [0.5106, 0.6906, 0.9715],\n",
              "         [0.8509, 0.4328, 0.4379],\n",
              "         ...,\n",
              "         [0.3503, 0.1822, 0.3351],\n",
              "         [0.8041, 0.7683, 0.0616],\n",
              "         [0.0516, 0.3735, 0.5090]],\n",
              "\n",
              "        [[0.6818, 0.6683, 0.2114],\n",
              "         [0.5533, 0.6959, 0.6252],\n",
              "         [0.4892, 0.4689, 0.4113],\n",
              "         ...,\n",
              "         [0.6317, 0.1981, 0.6777],\n",
              "         [0.2896, 0.4043, 0.1581],\n",
              "         [0.4616, 0.2224, 0.3575]],\n",
              "\n",
              "        [[0.1368, 0.2101, 0.4449],\n",
              "         [0.1635, 0.5959, 0.3981],\n",
              "         [0.6828, 0.4291, 0.3723],\n",
              "         ...,\n",
              "         [0.2442, 0.0757, 0.4529],\n",
              "         [0.5253, 0.3087, 0.4451],\n",
              "         [0.1174, 0.2702, 0.2453]]])"
            ]
          },
          "metadata": {},
          "execution_count": 4
        }
      ]
    },
    {
      "cell_type": "code",
      "source": [
        "image_tensor.shape,image_tensor.ndim,image_tensor.size"
      ],
      "metadata": {
        "colab": {
          "base_uri": "https://localhost:8080/"
        },
        "id": "6g-KEOdeF5Q9",
        "outputId": "406e5a49-8fc8-4a05-d8e0-37330243f68b"
      },
      "execution_count": null,
      "outputs": [
        {
          "output_type": "execute_result",
          "data": {
            "text/plain": [
              "(torch.Size([224, 224, 3]), 3, <function Tensor.size>)"
            ]
          },
          "metadata": {},
          "execution_count": 5
        }
      ]
    },
    {
      "cell_type": "markdown",
      "source": [
        "##Zeros and ones tensors"
      ],
      "metadata": {
        "id": "ThqcjDWZGU4c"
      }
    },
    {
      "cell_type": "code",
      "source": [
        "zeros = torch.zeros(size=(3,4))\n",
        "zeros"
      ],
      "metadata": {
        "colab": {
          "base_uri": "https://localhost:8080/"
        },
        "id": "qdonL7FBHUmm",
        "outputId": "95328a33-2461-4333-c9e0-130401092c49"
      },
      "execution_count": null,
      "outputs": [
        {
          "output_type": "execute_result",
          "data": {
            "text/plain": [
              "tensor([[0., 0., 0., 0.],\n",
              "        [0., 0., 0., 0.],\n",
              "        [0., 0., 0., 0.]])"
            ]
          },
          "metadata": {},
          "execution_count": 6
        }
      ]
    },
    {
      "cell_type": "code",
      "source": [
        "ones = torch.ones(size=(5,4))\n",
        "ones"
      ],
      "metadata": {
        "colab": {
          "base_uri": "https://localhost:8080/"
        },
        "id": "Lr_WYV7fHYfM",
        "outputId": "61776280-b07d-4b37-e123-9bc022791473"
      },
      "execution_count": null,
      "outputs": [
        {
          "output_type": "execute_result",
          "data": {
            "text/plain": [
              "tensor([[1., 1., 1., 1.],\n",
              "        [1., 1., 1., 1.],\n",
              "        [1., 1., 1., 1.],\n",
              "        [1., 1., 1., 1.],\n",
              "        [1., 1., 1., 1.]])"
            ]
          },
          "metadata": {},
          "execution_count": 7
        }
      ]
    },
    {
      "cell_type": "code",
      "source": [
        "random_tensor.dtype"
      ],
      "metadata": {
        "colab": {
          "base_uri": "https://localhost:8080/"
        },
        "id": "9YRURsMVHeyv",
        "outputId": "bf1cbb5d-3b15-4f4b-bdd2-7a8ddc09b2bd"
      },
      "execution_count": null,
      "outputs": [
        {
          "output_type": "execute_result",
          "data": {
            "text/plain": [
              "torch.float32"
            ]
          },
          "metadata": {},
          "execution_count": 10
        }
      ]
    },
    {
      "cell_type": "markdown",
      "source": [
        "## createing a tensors with range and tensors-like"
      ],
      "metadata": {
        "id": "Y9ez8UrNIULI"
      }
    },
    {
      "cell_type": "code",
      "source": [
        "# torch.range\n",
        "torch.range(0,10) # don't use it"
      ],
      "metadata": {
        "colab": {
          "base_uri": "https://localhost:8080/"
        },
        "id": "mwOlQuwOJSjj",
        "outputId": "c9c4422e-564d-4b5b-e510-b469e1152da1"
      },
      "execution_count": null,
      "outputs": [
        {
          "output_type": "stream",
          "name": "stderr",
          "text": [
            "<ipython-input-11-24ca51d35b19>:2: UserWarning: torch.range is deprecated and will be removed in a future release because its behavior is inconsistent with Python's range builtin. Instead, use torch.arange, which produces values in [start, end).\n",
            "  torch.range(0,10)\n"
          ]
        },
        {
          "output_type": "execute_result",
          "data": {
            "text/plain": [
              "tensor([ 0.,  1.,  2.,  3.,  4.,  5.,  6.,  7.,  8.,  9., 10.])"
            ]
          },
          "metadata": {},
          "execution_count": 11
        }
      ]
    },
    {
      "cell_type": "code",
      "source": [
        "torch.arange(start=0,end=100,step=5)"
      ],
      "metadata": {
        "colab": {
          "base_uri": "https://localhost:8080/"
        },
        "id": "eDuhWHFUJasA",
        "outputId": "6cf214c8-304f-473c-9c2d-91ff63f3e9df"
      },
      "execution_count": null,
      "outputs": [
        {
          "output_type": "execute_result",
          "data": {
            "text/plain": [
              "tensor([ 0,  5, 10, 15, 20, 25, 30, 35, 40, 45, 50, 55, 60, 65, 70, 75, 80, 85,\n",
              "        90, 95])"
            ]
          },
          "metadata": {},
          "execution_count": 13
        }
      ]
    },
    {
      "cell_type": "code",
      "source": [
        "#tensor_like is used to replicate the shape of some other tensors\n",
        "zeros_tensors = torch.zeros_like(input=ones)"
      ],
      "metadata": {
        "id": "T7gYqq38Ji8s"
      },
      "execution_count": null,
      "outputs": []
    },
    {
      "cell_type": "code",
      "source": [
        "zeros_tensors"
      ],
      "metadata": {
        "colab": {
          "base_uri": "https://localhost:8080/"
        },
        "id": "7X_TxEipKlUl",
        "outputId": "c320a0f1-f05a-4910-fd7a-cc51b7af17a4"
      },
      "execution_count": null,
      "outputs": [
        {
          "output_type": "execute_result",
          "data": {
            "text/plain": [
              "tensor([[0., 0., 0., 0.],\n",
              "        [0., 0., 0., 0.],\n",
              "        [0., 0., 0., 0.],\n",
              "        [0., 0., 0., 0.],\n",
              "        [0., 0., 0., 0.]])"
            ]
          },
          "metadata": {},
          "execution_count": 17
        }
      ]
    },
    {
      "cell_type": "code",
      "source": [
        "Tensor_datatypes = torch.tensor([3.0,4.0,5.0],dtype=None)\n",
        "Tensor_datatypes.dtype"
      ],
      "metadata": {
        "colab": {
          "base_uri": "https://localhost:8080/"
        },
        "id": "YGE-BHUzK71s",
        "outputId": "91705173-013d-4729-d9e7-3f7414ebb706"
      },
      "execution_count": null,
      "outputs": [
        {
          "output_type": "execute_result",
          "data": {
            "text/plain": [
              "torch.float32"
            ]
          },
          "metadata": {},
          "execution_count": 18
        }
      ]
    },
    {
      "cell_type": "code",
      "source": [
        "Tensor_datatypes = torch.tensor([3.0,4.0,5.0],dtype=torch.float64,device=None,requires_grad=False) # require grad mean whether or not to track gradients while doing tensor operations.\n",
        "Tensor_datatypes.dtype"
      ],
      "metadata": {
        "colab": {
          "base_uri": "https://localhost:8080/"
        },
        "id": "F3Z6lKQ3LzX0",
        "outputId": "3899dbac-c1d7-49af-b88b-544ff672ff68"
      },
      "execution_count": null,
      "outputs": [
        {
          "output_type": "execute_result",
          "data": {
            "text/plain": [
              "torch.float64"
            ]
          },
          "metadata": {},
          "execution_count": 2
        }
      ]
    },
    {
      "cell_type": "markdown",
      "source": [
        "##Getting information about tensors"
      ],
      "metadata": {
        "id": "t2Q7AcL0L4QE"
      }
    },
    {
      "cell_type": "code",
      "source": [
        "float_16_tensor = torch.tensor([1,2,3],dtype=torch.float16)\n",
        "float_16_tensor"
      ],
      "metadata": {
        "colab": {
          "base_uri": "https://localhost:8080/"
        },
        "id": "Z0NVa1QyBsqg",
        "outputId": "a7cfdd8f-7d21-4cb0-fb02-852a1166a9b1"
      },
      "execution_count": null,
      "outputs": [
        {
          "output_type": "execute_result",
          "data": {
            "text/plain": [
              "tensor([1., 2., 3.], dtype=torch.float16)"
            ]
          },
          "metadata": {},
          "execution_count": 3
        }
      ]
    },
    {
      "cell_type": "code",
      "source": [
        "float_32_tensor = torch.tensor([1,2,3],dtype=torch.float32)\n",
        "float_32_tensor"
      ],
      "metadata": {
        "colab": {
          "base_uri": "https://localhost:8080/"
        },
        "id": "xZa2el6KB3ea",
        "outputId": "f1d594e1-f3f3-4164-f3f1-13a50203271d"
      },
      "execution_count": null,
      "outputs": [
        {
          "output_type": "execute_result",
          "data": {
            "text/plain": [
              "tensor([1., 2., 3.])"
            ]
          },
          "metadata": {},
          "execution_count": 4
        }
      ]
    },
    {
      "cell_type": "code",
      "source": [
        "result = float_16_tensor * float_32_tensor"
      ],
      "metadata": {
        "id": "5yVxuL3OB9rI"
      },
      "execution_count": null,
      "outputs": []
    },
    {
      "cell_type": "code",
      "source": [
        "result.dtype"
      ],
      "metadata": {
        "colab": {
          "base_uri": "https://localhost:8080/"
        },
        "id": "8FjeK4qNCBnC",
        "outputId": "19c7ceb7-72eb-47f3-9bdf-f9e2eba72fa9"
      },
      "execution_count": null,
      "outputs": [
        {
          "output_type": "execute_result",
          "data": {
            "text/plain": [
              "torch.float32"
            ]
          },
          "metadata": {},
          "execution_count": 7
        }
      ]
    },
    {
      "cell_type": "code",
      "source": [
        "int_tensor = torch.tensor([1,2,3])\n",
        "int_tensor.dtype"
      ],
      "metadata": {
        "colab": {
          "base_uri": "https://localhost:8080/"
        },
        "id": "UrSaGniVCF6Q",
        "outputId": "42fe7a70-99df-4396-a865-2c2944458d87"
      },
      "execution_count": null,
      "outputs": [
        {
          "output_type": "execute_result",
          "data": {
            "text/plain": [
              "torch.int64"
            ]
          },
          "metadata": {},
          "execution_count": 8
        }
      ]
    },
    {
      "cell_type": "code",
      "source": [
        "int_tensor*float_32_tensor"
      ],
      "metadata": {
        "colab": {
          "base_uri": "https://localhost:8080/"
        },
        "id": "IVe-IH36CYcu",
        "outputId": "ee9a9c10-962f-4187-9c61-aa0d174f00c5"
      },
      "execution_count": null,
      "outputs": [
        {
          "output_type": "execute_result",
          "data": {
            "text/plain": [
              "tensor([1., 4., 9.])"
            ]
          },
          "metadata": {},
          "execution_count": 9
        }
      ]
    },
    {
      "cell_type": "code",
      "source": [
        "# create tensor\n",
        "some_tensor = torch.rand(3,4)\n",
        "some_tensor"
      ],
      "metadata": {
        "colab": {
          "base_uri": "https://localhost:8080/"
        },
        "id": "I_SU4pLkCap2",
        "outputId": "404f0c5d-6fcd-40ca-f595-fa26b2790025"
      },
      "execution_count": null,
      "outputs": [
        {
          "output_type": "execute_result",
          "data": {
            "text/plain": [
              "tensor([[0.4839, 0.9222, 0.0403, 0.2434],\n",
              "        [0.1233, 0.1610, 0.2123, 0.8895],\n",
              "        [0.6389, 0.0049, 0.0372, 0.4426]])"
            ]
          },
          "metadata": {},
          "execution_count": 10
        }
      ]
    },
    {
      "cell_type": "code",
      "source": [
        "# find out detail about some_tensor\n",
        "print(some_tensor)\n",
        "print(f\"DateType of Tensor: {some_tensor.dtype}\")\n",
        "print(f\"shape of tensor: {some_tensor.shape}\")\n",
        "print(f\"device of tensor: {some_tensor.device}\")"
      ],
      "metadata": {
        "colab": {
          "base_uri": "https://localhost:8080/"
        },
        "id": "wD2OL206DamN",
        "outputId": "4867bc78-c250-4968-f3ff-d8b3c2a751d1"
      },
      "execution_count": null,
      "outputs": [
        {
          "output_type": "stream",
          "name": "stdout",
          "text": [
            "tensor([[0.4839, 0.9222, 0.0403, 0.2434],\n",
            "        [0.1233, 0.1610, 0.2123, 0.8895],\n",
            "        [0.6389, 0.0049, 0.0372, 0.4426]])\n",
            "DateType of Tensor: torch.float32\n",
            "shape of tensor: torch.Size([3, 4])\n",
            "device of tensor: cpu\n"
          ]
        }
      ]
    },
    {
      "cell_type": "markdown",
      "source": [
        "## Manipulating Tensors"
      ],
      "metadata": {
        "id": "sIMiE925EVcM"
      }
    },
    {
      "cell_type": "code",
      "source": [
        "tensor = torch.tensor([1,2,3,4,5])\n",
        "tensor+10"
      ],
      "metadata": {
        "colab": {
          "base_uri": "https://localhost:8080/"
        },
        "id": "wDCbU65LI9fh",
        "outputId": "212ebf45-b8e9-4ca4-a1ab-91c54aa0d07a"
      },
      "execution_count": null,
      "outputs": [
        {
          "output_type": "execute_result",
          "data": {
            "text/plain": [
              "tensor([11, 12, 13, 14, 15])"
            ]
          },
          "metadata": {},
          "execution_count": 12
        }
      ]
    },
    {
      "cell_type": "code",
      "source": [
        "# Try out Pytorch in-built functions\n",
        "torch.mul(tensor,10)"
      ],
      "metadata": {
        "colab": {
          "base_uri": "https://localhost:8080/"
        },
        "id": "T6qiuv2mJUbk",
        "outputId": "52b67f3a-684f-4ae6-d468-b27d087a3858"
      },
      "execution_count": null,
      "outputs": [
        {
          "output_type": "execute_result",
          "data": {
            "text/plain": [
              "tensor([10, 20, 30, 40, 50])"
            ]
          },
          "metadata": {},
          "execution_count": 13
        }
      ]
    },
    {
      "cell_type": "code",
      "source": [
        "torch.add(tensor,20)"
      ],
      "metadata": {
        "colab": {
          "base_uri": "https://localhost:8080/"
        },
        "id": "ohUaBLMGJr9N",
        "outputId": "5173ec9f-ee11-4ae3-991c-1ce9b6e86b38"
      },
      "execution_count": null,
      "outputs": [
        {
          "output_type": "execute_result",
          "data": {
            "text/plain": [
              "tensor([21, 22, 23, 24, 25])"
            ]
          },
          "metadata": {},
          "execution_count": 14
        }
      ]
    },
    {
      "cell_type": "code",
      "source": [
        "torch.sub(tensor,10)"
      ],
      "metadata": {
        "colab": {
          "base_uri": "https://localhost:8080/"
        },
        "id": "9CI9ME_fKH7e",
        "outputId": "2f9de1f8-ecca-4ee5-8261-583835adaf9b"
      },
      "execution_count": null,
      "outputs": [
        {
          "output_type": "execute_result",
          "data": {
            "text/plain": [
              "tensor([-9, -8, -7, -6, -5])"
            ]
          },
          "metadata": {},
          "execution_count": 15
        }
      ]
    },
    {
      "cell_type": "code",
      "source": [
        "# comparing the speed value\n",
        "%%time\n",
        "value = 0\n",
        "for i in range(len(tensor)):\n",
        "  value += tensor[i] * tensor[i]\n",
        "print(value)"
      ],
      "metadata": {
        "colab": {
          "base_uri": "https://localhost:8080/"
        },
        "id": "a11Y_xRiKLrb",
        "outputId": "ce2ff89f-2472-4a93-cc89-82eadea64e43"
      },
      "execution_count": null,
      "outputs": [
        {
          "output_type": "stream",
          "name": "stdout",
          "text": [
            "tensor(55)\n",
            "CPU times: user 3.29 ms, sys: 0 ns, total: 3.29 ms\n",
            "Wall time: 3.19 ms\n"
          ]
        }
      ]
    },
    {
      "cell_type": "code",
      "source": [
        "%%time\n",
        "torch.matmul(tensor,tensor)"
      ],
      "metadata": {
        "colab": {
          "base_uri": "https://localhost:8080/"
        },
        "id": "hIl8RckzOZQW",
        "outputId": "c5ff2b61-6f92-40a6-b377-639bc782d04b"
      },
      "execution_count": null,
      "outputs": [
        {
          "output_type": "stream",
          "name": "stdout",
          "text": [
            "CPU times: user 1.24 ms, sys: 22 µs, total: 1.26 ms\n",
            "Wall time: 1.16 ms\n"
          ]
        },
        {
          "output_type": "execute_result",
          "data": {
            "text/plain": [
              "tensor(55)"
            ]
          },
          "metadata": {},
          "execution_count": 19
        }
      ]
    },
    {
      "cell_type": "code",
      "source": [
        "torch.matmul(torch.rand(3,2),torch.rand(2,3))"
      ],
      "metadata": {
        "colab": {
          "base_uri": "https://localhost:8080/"
        },
        "id": "mUkGD70xOhKR",
        "outputId": "a6688318-684d-4437-a5fa-9948d3e71c4a"
      },
      "execution_count": null,
      "outputs": [
        {
          "output_type": "execute_result",
          "data": {
            "text/plain": [
              "tensor([[0.1230, 0.3384, 0.1646],\n",
              "        [0.1341, 0.3330, 0.2222],\n",
              "        [0.0682, 0.1285, 0.1612]])"
            ]
          },
          "metadata": {},
          "execution_count": 20
        }
      ]
    },
    {
      "cell_type": "code",
      "source": [
        "tensor_A = torch.tensor([[1,2],[3,4],[5,6]])\n",
        "tensor_B = torch.tensor([[7,8],[9,10],[11,12]])"
      ],
      "metadata": {
        "id": "GqP1C03XQGfU"
      },
      "execution_count": null,
      "outputs": []
    },
    {
      "cell_type": "code",
      "source": [
        "torch.matmul(tensor_A,tensor_B)"
      ],
      "metadata": {
        "colab": {
          "base_uri": "https://localhost:8080/",
          "height": 141
        },
        "id": "uNEuasK7Rc77",
        "outputId": "2cac696f-6966-44ab-ecdf-86c129cb8c4a"
      },
      "execution_count": null,
      "outputs": [
        {
          "output_type": "error",
          "ename": "RuntimeError",
          "evalue": "mat1 and mat2 shapes cannot be multiplied (3x2 and 3x2)",
          "traceback": [
            "\u001b[0;31m---------------------------------------------------------------------------\u001b[0m",
            "\u001b[0;31mRuntimeError\u001b[0m                              Traceback (most recent call last)",
            "\u001b[0;32m<ipython-input-23-9dde1cb2f945>\u001b[0m in \u001b[0;36m<cell line: 1>\u001b[0;34m()\u001b[0m\n\u001b[0;32m----> 1\u001b[0;31m \u001b[0mtorch\u001b[0m\u001b[0;34m.\u001b[0m\u001b[0mmatmul\u001b[0m\u001b[0;34m(\u001b[0m\u001b[0mtensor_A\u001b[0m\u001b[0;34m,\u001b[0m\u001b[0mtensor_B\u001b[0m\u001b[0;34m)\u001b[0m\u001b[0;34m\u001b[0m\u001b[0;34m\u001b[0m\u001b[0m\n\u001b[0m",
            "\u001b[0;31mRuntimeError\u001b[0m: mat1 and mat2 shapes cannot be multiplied (3x2 and 3x2)"
          ]
        }
      ]
    },
    {
      "cell_type": "code",
      "source": [
        "tensor_A"
      ],
      "metadata": {
        "colab": {
          "base_uri": "https://localhost:8080/"
        },
        "id": "xHC-yn_MRlST",
        "outputId": "4bb09373-c39c-4e2d-c2a7-4d18c076236e"
      },
      "execution_count": null,
      "outputs": [
        {
          "output_type": "execute_result",
          "data": {
            "text/plain": [
              "tensor([[1, 2],\n",
              "        [3, 4],\n",
              "        [5, 6]])"
            ]
          },
          "metadata": {},
          "execution_count": 3
        }
      ]
    },
    {
      "cell_type": "code",
      "source": [
        "tensor_A.T"
      ],
      "metadata": {
        "colab": {
          "base_uri": "https://localhost:8080/"
        },
        "id": "nDTtG4P4RpsE",
        "outputId": "691d7140-65ef-4b93-9cce-c43db9e2420e"
      },
      "execution_count": null,
      "outputs": [
        {
          "output_type": "execute_result",
          "data": {
            "text/plain": [
              "tensor([[1, 3, 5],\n",
              "        [2, 4, 6]])"
            ]
          },
          "metadata": {},
          "execution_count": 4
        }
      ]
    },
    {
      "cell_type": "code",
      "source": [
        "tensor_A.shape,tensor_B.T.shape"
      ],
      "metadata": {
        "colab": {
          "base_uri": "https://localhost:8080/"
        },
        "id": "P_q_lkJ_SeBQ",
        "outputId": "61459694-2860-4624-b495-89eadf92b721"
      },
      "execution_count": null,
      "outputs": [
        {
          "output_type": "execute_result",
          "data": {
            "text/plain": [
              "(torch.Size([3, 2]), torch.Size([2, 3]))"
            ]
          },
          "metadata": {},
          "execution_count": 5
        }
      ]
    },
    {
      "cell_type": "code",
      "source": [
        "torch.matmul(tensor_A,tensor_B.T)"
      ],
      "metadata": {
        "colab": {
          "base_uri": "https://localhost:8080/"
        },
        "id": "DpaGCpLaRq_x",
        "outputId": "3b633d2b-4acf-424f-8a00-1a029ea44994"
      },
      "execution_count": null,
      "outputs": [
        {
          "output_type": "execute_result",
          "data": {
            "text/plain": [
              "tensor([[ 23,  29,  35],\n",
              "        [ 53,  67,  81],\n",
              "        [ 83, 105, 127]])"
            ]
          },
          "metadata": {},
          "execution_count": 6
        }
      ]
    },
    {
      "cell_type": "markdown",
      "source": [
        "# Reshaping,stacking,,squeezing and unsqueezing tensors"
      ],
      "metadata": {
        "id": "wJeEy4cTSacN"
      }
    },
    {
      "cell_type": "code",
      "source": [
        "x = torch.arange(1.,10.)\n",
        "x,x.shape"
      ],
      "metadata": {
        "id": "GfJYv0pMVwxK",
        "colab": {
          "base_uri": "https://localhost:8080/"
        },
        "outputId": "26a69f0b-75c5-42aa-ba1f-d8992f704719"
      },
      "execution_count": null,
      "outputs": [
        {
          "output_type": "execute_result",
          "data": {
            "text/plain": [
              "(tensor([1., 2., 3., 4., 5., 6., 7., 8., 9.]), torch.Size([9]))"
            ]
          },
          "metadata": {},
          "execution_count": 4
        }
      ]
    },
    {
      "cell_type": "code",
      "source": [
        "# Add an extra dimension\n",
        "x_reshaped = x.reshape(3,3)\n",
        "x_reshaped"
      ],
      "metadata": {
        "colab": {
          "base_uri": "https://localhost:8080/"
        },
        "id": "B-XbLW9vHqF5",
        "outputId": "6c90837e-c20c-4f43-b2b0-538be94be6c2"
      },
      "execution_count": null,
      "outputs": [
        {
          "output_type": "execute_result",
          "data": {
            "text/plain": [
              "tensor([[1., 2., 3.],\n",
              "        [4., 5., 6.],\n",
              "        [7., 8., 9.]])"
            ]
          },
          "metadata": {},
          "execution_count": 5
        }
      ]
    },
    {
      "cell_type": "code",
      "source": [
        "# Add single dimension\n",
        "x_reshape = x.reshape(1,9)\n",
        "x_reshape"
      ],
      "metadata": {
        "colab": {
          "base_uri": "https://localhost:8080/"
        },
        "id": "XlJl1MikIKkj",
        "outputId": "a1c8ee1c-7cf2-4ce9-e9ae-2f1322526b5f"
      },
      "execution_count": null,
      "outputs": [
        {
          "output_type": "execute_result",
          "data": {
            "text/plain": [
              "tensor([[1., 2., 3., 4., 5., 6., 7., 8., 9.]])"
            ]
          },
          "metadata": {},
          "execution_count": 6
        }
      ]
    },
    {
      "cell_type": "code",
      "source": [
        "# change the view of x\n",
        "z = x.view(1,9)\n",
        "z,x"
      ],
      "metadata": {
        "colab": {
          "base_uri": "https://localhost:8080/"
        },
        "id": "uhyN3OifIz5w",
        "outputId": "87bc8407-ddac-421b-c064-c7ddd1d2d2fc"
      },
      "execution_count": null,
      "outputs": [
        {
          "output_type": "execute_result",
          "data": {
            "text/plain": [
              "(tensor([[1., 2., 3., 4., 5., 6., 7., 8., 9.]]),\n",
              " tensor([1., 2., 3., 4., 5., 6., 7., 8., 9.]))"
            ]
          },
          "metadata": {},
          "execution_count": 7
        }
      ]
    },
    {
      "cell_type": "code",
      "source": [
        "# stack tensors on top of each other\n",
        "x_stacked = torch.stack([x,x,x,x],dim=0)\n",
        "x_stacked"
      ],
      "metadata": {
        "colab": {
          "base_uri": "https://localhost:8080/"
        },
        "id": "8xkKciybl7QE",
        "outputId": "c2f9f8b1-0548-44a6-ca4d-5d94963861c4"
      },
      "execution_count": null,
      "outputs": [
        {
          "output_type": "execute_result",
          "data": {
            "text/plain": [
              "tensor([[1., 2., 3., 4., 5., 6., 7., 8., 9.],\n",
              "        [1., 2., 3., 4., 5., 6., 7., 8., 9.],\n",
              "        [1., 2., 3., 4., 5., 6., 7., 8., 9.],\n",
              "        [1., 2., 3., 4., 5., 6., 7., 8., 9.]])"
            ]
          },
          "metadata": {},
          "execution_count": 8
        }
      ]
    },
    {
      "cell_type": "code",
      "source": [
        "x_stacked_1 = torch.stack([x,x,x,x],dim=1)\n",
        "x_stacked_1"
      ],
      "metadata": {
        "colab": {
          "base_uri": "https://localhost:8080/"
        },
        "id": "PdxE9DPbnQgs",
        "outputId": "33b79e77-d002-4daa-cca5-881cf1793c5d"
      },
      "execution_count": null,
      "outputs": [
        {
          "output_type": "execute_result",
          "data": {
            "text/plain": [
              "tensor([[1., 1., 1., 1.],\n",
              "        [2., 2., 2., 2.],\n",
              "        [3., 3., 3., 3.],\n",
              "        [4., 4., 4., 4.],\n",
              "        [5., 5., 5., 5.],\n",
              "        [6., 6., 6., 6.],\n",
              "        [7., 7., 7., 7.],\n",
              "        [8., 8., 8., 8.],\n",
              "        [9., 9., 9., 9.]])"
            ]
          },
          "metadata": {},
          "execution_count": 9
        }
      ]
    },
    {
      "cell_type": "code",
      "source": [
        "x_stacked.T"
      ],
      "metadata": {
        "colab": {
          "base_uri": "https://localhost:8080/"
        },
        "id": "jUwWc170nWOq",
        "outputId": "7db11c8a-6651-436c-998f-04c51e825b7a"
      },
      "execution_count": null,
      "outputs": [
        {
          "output_type": "execute_result",
          "data": {
            "text/plain": [
              "tensor([[1., 1., 1., 1.],\n",
              "        [2., 2., 2., 2.],\n",
              "        [3., 3., 3., 3.],\n",
              "        [4., 4., 4., 4.],\n",
              "        [5., 5., 5., 5.],\n",
              "        [6., 6., 6., 6.],\n",
              "        [7., 7., 7., 7.],\n",
              "        [8., 8., 8., 8.],\n",
              "        [9., 9., 9., 9.]])"
            ]
          },
          "metadata": {},
          "execution_count": 10
        }
      ]
    },
    {
      "cell_type": "code",
      "source": [
        "x = torch.rand(1,2)\n",
        "x.ndim"
      ],
      "metadata": {
        "colab": {
          "base_uri": "https://localhost:8080/"
        },
        "id": "AdFdqj0GnhPe",
        "outputId": "49f64c1e-03ca-4b68-c508-82c1ce4ac947"
      },
      "execution_count": null,
      "outputs": [
        {
          "output_type": "execute_result",
          "data": {
            "text/plain": [
              "2"
            ]
          },
          "metadata": {},
          "execution_count": 3
        }
      ]
    },
    {
      "cell_type": "code",
      "source": [
        "x.squeeze()"
      ],
      "metadata": {
        "colab": {
          "base_uri": "https://localhost:8080/"
        },
        "id": "unpZV8-JoQUN",
        "outputId": "4f5dd525-2e84-487b-952c-5c67ccc26a32"
      },
      "execution_count": null,
      "outputs": [
        {
          "output_type": "execute_result",
          "data": {
            "text/plain": [
              "tensor([0.2539, 0.4310])"
            ]
          },
          "metadata": {},
          "execution_count": 4
        }
      ]
    },
    {
      "cell_type": "code",
      "source": [
        "x.squeeze().shape"
      ],
      "metadata": {
        "colab": {
          "base_uri": "https://localhost:8080/"
        },
        "id": "5ybd22CZp-xa",
        "outputId": "107a5a11-425f-4e7c-bcc6-15f7210ace90"
      },
      "execution_count": null,
      "outputs": [
        {
          "output_type": "execute_result",
          "data": {
            "text/plain": [
              "torch.Size([2])"
            ]
          },
          "metadata": {},
          "execution_count": 16
        }
      ]
    },
    {
      "cell_type": "code",
      "source": [
        "x = torch.rand(1,1,2,1,9)\n",
        "x,x.shape"
      ],
      "metadata": {
        "colab": {
          "base_uri": "https://localhost:8080/"
        },
        "id": "-b7Uw1AAqPKo",
        "outputId": "f13734b1-601c-4ef1-c003-83a52e867bf5"
      },
      "execution_count": null,
      "outputs": [
        {
          "output_type": "execute_result",
          "data": {
            "text/plain": [
              "(tensor([[[[[0.0898, 0.7955, 0.8090, 0.1411, 0.1600, 0.4459, 0.1291, 0.1163,\n",
              "             0.4256]],\n",
              " \n",
              "           [[0.9055, 0.7147, 0.4519, 0.7046, 0.1607, 0.1089, 0.0919, 0.1046,\n",
              "             0.9475]]]]]),\n",
              " torch.Size([1, 1, 2, 1, 9]))"
            ]
          },
          "metadata": {},
          "execution_count": 5
        }
      ]
    },
    {
      "cell_type": "code",
      "source": [
        "x.squeeze()"
      ],
      "metadata": {
        "colab": {
          "base_uri": "https://localhost:8080/"
        },
        "id": "Y2yq_cPIrDDB",
        "outputId": "c77be914-0823-4092-a158-10a9ce00f4a9"
      },
      "execution_count": null,
      "outputs": [
        {
          "output_type": "execute_result",
          "data": {
            "text/plain": [
              "tensor([[0.0898, 0.7955, 0.8090, 0.1411, 0.1600, 0.4459, 0.1291, 0.1163, 0.4256],\n",
              "        [0.9055, 0.7147, 0.4519, 0.7046, 0.1607, 0.1089, 0.0919, 0.1046, 0.9475]])"
            ]
          },
          "metadata": {},
          "execution_count": 6
        }
      ]
    },
    {
      "cell_type": "code",
      "source": [
        "x.squeeze().shape"
      ],
      "metadata": {
        "colab": {
          "base_uri": "https://localhost:8080/"
        },
        "id": "jX8G1DERrdvf",
        "outputId": "81c01839-dcc6-4f47-aeb2-6f9e7b9ca0a5"
      },
      "execution_count": null,
      "outputs": [
        {
          "output_type": "execute_result",
          "data": {
            "text/plain": [
              "torch.Size([2, 9])"
            ]
          },
          "metadata": {},
          "execution_count": 7
        }
      ]
    },
    {
      "cell_type": "code",
      "source": [
        "# add a single dimension to a target tensor\n",
        "x = torch.rand(9)"
      ],
      "metadata": {
        "id": "0dHw7MbjrhoB"
      },
      "execution_count": null,
      "outputs": []
    },
    {
      "cell_type": "code",
      "source": [
        "x"
      ],
      "metadata": {
        "colab": {
          "base_uri": "https://localhost:8080/"
        },
        "id": "yB5CxwyAtFVx",
        "outputId": "78ea342f-d6d0-4856-a41a-498f2feb0783"
      },
      "execution_count": null,
      "outputs": [
        {
          "output_type": "execute_result",
          "data": {
            "text/plain": [
              "tensor([0.7878, 0.6848, 0.5834, 0.3572, 0.8807, 0.9656, 0.5836, 0.6524, 0.1306])"
            ]
          },
          "metadata": {},
          "execution_count": 11
        }
      ]
    },
    {
      "cell_type": "code",
      "source": [
        "x.unsqueeze(dim=0)"
      ],
      "metadata": {
        "colab": {
          "base_uri": "https://localhost:8080/"
        },
        "id": "k2OhbwzBtQm_",
        "outputId": "7c851e21-2131-4688-a64e-337cc4cca193"
      },
      "execution_count": null,
      "outputs": [
        {
          "output_type": "execute_result",
          "data": {
            "text/plain": [
              "tensor([[0.7878, 0.6848, 0.5834, 0.3572, 0.8807, 0.9656, 0.5836, 0.6524, 0.1306]])"
            ]
          },
          "metadata": {},
          "execution_count": 12
        }
      ]
    },
    {
      "cell_type": "code",
      "source": [
        "x,x.shape"
      ],
      "metadata": {
        "colab": {
          "base_uri": "https://localhost:8080/"
        },
        "id": "B9FsM2v2t9MC",
        "outputId": "3e07ae1c-30b4-443e-851d-1e1fd9d509b5"
      },
      "execution_count": null,
      "outputs": [
        {
          "output_type": "execute_result",
          "data": {
            "text/plain": [
              "(tensor([0.7878, 0.6848, 0.5834, 0.3572, 0.8807, 0.9656, 0.5836, 0.6524, 0.1306]),\n",
              " torch.Size([9]))"
            ]
          },
          "metadata": {},
          "execution_count": 14
        }
      ]
    },
    {
      "cell_type": "code",
      "source": [
        "x.unsqueeze(dim=1)"
      ],
      "metadata": {
        "colab": {
          "base_uri": "https://localhost:8080/"
        },
        "id": "oJQ8QLcnxaUI",
        "outputId": "bdd32892-45a9-44c2-ce53-aa9d524dfd53"
      },
      "execution_count": null,
      "outputs": [
        {
          "output_type": "execute_result",
          "data": {
            "text/plain": [
              "tensor([[0.7878],\n",
              "        [0.6848],\n",
              "        [0.5834],\n",
              "        [0.3572],\n",
              "        [0.8807],\n",
              "        [0.9656],\n",
              "        [0.5836],\n",
              "        [0.6524],\n",
              "        [0.1306]])"
            ]
          },
          "metadata": {},
          "execution_count": 15
        }
      ]
    },
    {
      "cell_type": "code",
      "source": [
        "x.unsqueeze(dim=1).shape"
      ],
      "metadata": {
        "colab": {
          "base_uri": "https://localhost:8080/"
        },
        "id": "ahG4BfP1x9QZ",
        "outputId": "0780e0cc-8d2f-401f-cf66-cd66008b4d10"
      },
      "execution_count": null,
      "outputs": [
        {
          "output_type": "execute_result",
          "data": {
            "text/plain": [
              "torch.Size([9, 1])"
            ]
          },
          "metadata": {},
          "execution_count": 16
        }
      ]
    },
    {
      "cell_type": "code",
      "source": [
        "x = torch.rand(2,3,5)\n",
        "x"
      ],
      "metadata": {
        "colab": {
          "base_uri": "https://localhost:8080/"
        },
        "id": "NrT2vwBZyASE",
        "outputId": "0cc2465b-35a3-4dab-cee9-4c1c5e5aa0c4"
      },
      "execution_count": null,
      "outputs": [
        {
          "output_type": "execute_result",
          "data": {
            "text/plain": [
              "tensor([[[0.6678, 0.3747, 0.2680, 0.8896, 0.5306],\n",
              "         [0.9140, 0.3814, 0.3930, 0.3299, 0.1522],\n",
              "         [0.5759, 0.2146, 0.9331, 0.5320, 0.4602]],\n",
              "\n",
              "        [[0.2858, 0.9956, 0.6784, 0.4791, 0.2444],\n",
              "         [0.4079, 0.2059, 0.5825, 0.9878, 0.9260],\n",
              "         [0.6734, 0.5663, 0.3864, 0.5058, 0.3012]]])"
            ]
          },
          "metadata": {},
          "execution_count": 17
        }
      ]
    },
    {
      "cell_type": "code",
      "source": [
        "x.size()"
      ],
      "metadata": {
        "colab": {
          "base_uri": "https://localhost:8080/"
        },
        "id": "cj4E8X0M0nqj",
        "outputId": "2559bf01-3e46-4a1d-b005-8f4f53be1285"
      },
      "execution_count": null,
      "outputs": [
        {
          "output_type": "execute_result",
          "data": {
            "text/plain": [
              "torch.Size([2, 3, 5])"
            ]
          },
          "metadata": {},
          "execution_count": 18
        }
      ]
    },
    {
      "cell_type": "code",
      "source": [
        "x_permuted = x.permute(2,0,1)\n",
        "x_permuted"
      ],
      "metadata": {
        "colab": {
          "base_uri": "https://localhost:8080/"
        },
        "id": "eT_E8ub40tia",
        "outputId": "ffa535ee-9916-4643-eddb-07b3e3657e38"
      },
      "execution_count": null,
      "outputs": [
        {
          "output_type": "execute_result",
          "data": {
            "text/plain": [
              "tensor([[[0.6678, 0.9140, 0.5759],\n",
              "         [0.2858, 0.4079, 0.6734]],\n",
              "\n",
              "        [[0.3747, 0.3814, 0.2146],\n",
              "         [0.9956, 0.2059, 0.5663]],\n",
              "\n",
              "        [[0.2680, 0.3930, 0.9331],\n",
              "         [0.6784, 0.5825, 0.3864]],\n",
              "\n",
              "        [[0.8896, 0.3299, 0.5320],\n",
              "         [0.4791, 0.9878, 0.5058]],\n",
              "\n",
              "        [[0.5306, 0.1522, 0.4602],\n",
              "         [0.2444, 0.9260, 0.3012]]])"
            ]
          },
          "metadata": {},
          "execution_count": 19
        }
      ]
    },
    {
      "cell_type": "code",
      "source": [
        "x_permuted.shape"
      ],
      "metadata": {
        "colab": {
          "base_uri": "https://localhost:8080/"
        },
        "id": "Wd_XfUWI0ymS",
        "outputId": "4ea4669e-bbd8-408d-8d13-7a32056a3cf5"
      },
      "execution_count": null,
      "outputs": [
        {
          "output_type": "execute_result",
          "data": {
            "text/plain": [
              "torch.Size([5, 2, 3])"
            ]
          },
          "metadata": {},
          "execution_count": 20
        }
      ]
    },
    {
      "cell_type": "code",
      "source": [
        "x_orignal = torch.rand(224,224,3)\n",
        "x_permuted = x_orignal.permute(2,0,1)\n",
        "x_permuted.shape"
      ],
      "metadata": {
        "colab": {
          "base_uri": "https://localhost:8080/"
        },
        "id": "UVSoLYax03kP",
        "outputId": "51be620e-63a3-4b60-ab1d-4960d3eee9c6"
      },
      "execution_count": null,
      "outputs": [
        {
          "output_type": "execute_result",
          "data": {
            "text/plain": [
              "torch.Size([3, 224, 224])"
            ]
          },
          "metadata": {},
          "execution_count": 21
        }
      ]
    },
    {
      "cell_type": "code",
      "source": [
        "x_orignal[0,0,0] = 100\n",
        "x_orignal[0].shape"
      ],
      "metadata": {
        "colab": {
          "base_uri": "https://localhost:8080/"
        },
        "id": "jjnGEPdJ11wQ",
        "outputId": "3cb1aa6f-eb6f-43b0-9384-c1a89a6840e0"
      },
      "execution_count": null,
      "outputs": [
        {
          "output_type": "execute_result",
          "data": {
            "text/plain": [
              "torch.Size([224, 3])"
            ]
          },
          "metadata": {},
          "execution_count": 25
        }
      ]
    },
    {
      "cell_type": "code",
      "source": [
        "x_orignal[0,0,0]"
      ],
      "metadata": {
        "colab": {
          "base_uri": "https://localhost:8080/"
        },
        "id": "tvUo7B-Z2Px2",
        "outputId": "571dd324-46a1-4f03-e018-6ffb72b365f7"
      },
      "execution_count": null,
      "outputs": [
        {
          "output_type": "execute_result",
          "data": {
            "text/plain": [
              "tensor(100.)"
            ]
          },
          "metadata": {},
          "execution_count": 28
        }
      ]
    },
    {
      "cell_type": "code",
      "source": [
        "x_orignal"
      ],
      "metadata": {
        "colab": {
          "base_uri": "https://localhost:8080/"
        },
        "id": "MBXYUN1r20Yv",
        "outputId": "a386360d-77ba-4ccc-b03c-b2bb6c37ce00"
      },
      "execution_count": null,
      "outputs": [
        {
          "output_type": "execute_result",
          "data": {
            "text/plain": [
              "tensor([[[1.0000e+02, 5.2434e-02, 4.4071e-01],\n",
              "         [2.9724e-01, 8.6409e-01, 5.5818e-01],\n",
              "         [7.0417e-01, 2.2648e-01, 8.5184e-01],\n",
              "         ...,\n",
              "         [2.7182e-01, 5.8145e-01, 3.4486e-01],\n",
              "         [4.9919e-01, 8.5483e-01, 2.4076e-01],\n",
              "         [6.8300e-01, 3.1458e-01, 4.1392e-01]],\n",
              "\n",
              "        [[9.7314e-02, 3.2438e-01, 3.5391e-01],\n",
              "         [5.0851e-01, 7.1135e-01, 7.8794e-01],\n",
              "         [3.5778e-01, 5.1945e-02, 7.1141e-01],\n",
              "         ...,\n",
              "         [2.5710e-01, 6.1342e-01, 2.0433e-01],\n",
              "         [4.4653e-02, 2.2145e-02, 1.1849e-01],\n",
              "         [5.6551e-01, 3.2567e-01, 1.2965e-01]],\n",
              "\n",
              "        [[3.7273e-01, 5.2871e-01, 2.1965e-01],\n",
              "         [6.1980e-01, 1.2104e-01, 6.9613e-02],\n",
              "         [5.9391e-01, 1.7201e-01, 9.8843e-01],\n",
              "         ...,\n",
              "         [3.7363e-01, 6.0409e-01, 1.9188e-01],\n",
              "         [9.7266e-01, 5.3468e-01, 2.2893e-01],\n",
              "         [8.2737e-01, 5.7449e-01, 3.9303e-01]],\n",
              "\n",
              "        ...,\n",
              "\n",
              "        [[3.4001e-01, 4.5270e-01, 1.7190e-01],\n",
              "         [3.9582e-01, 6.3403e-01, 2.4200e-02],\n",
              "         [1.2598e-01, 7.2922e-02, 1.7447e-01],\n",
              "         ...,\n",
              "         [3.9521e-01, 2.2774e-02, 9.8632e-01],\n",
              "         [4.8839e-01, 2.0036e-01, 3.3072e-01],\n",
              "         [1.4843e-01, 3.9484e-01, 5.8022e-01]],\n",
              "\n",
              "        [[7.9891e-01, 1.7349e-01, 2.8981e-01],\n",
              "         [9.8475e-01, 9.5138e-02, 8.3648e-01],\n",
              "         [1.5812e-02, 4.0249e-02, 6.2788e-03],\n",
              "         ...,\n",
              "         [9.6057e-01, 2.5455e-01, 8.0256e-01],\n",
              "         [5.9520e-01, 8.4907e-01, 1.1714e-01],\n",
              "         [2.6716e-01, 9.8239e-02, 6.8781e-01]],\n",
              "\n",
              "        [[3.6235e-01, 5.0035e-01, 4.8852e-01],\n",
              "         [2.8194e-02, 2.8405e-01, 1.1590e-01],\n",
              "         [3.4259e-02, 5.1691e-01, 4.5406e-01],\n",
              "         ...,\n",
              "         [1.0002e-02, 5.3990e-01, 6.1652e-01],\n",
              "         [7.8328e-01, 8.8170e-01, 1.4956e-01],\n",
              "         [9.3085e-01, 1.5962e-01, 4.6825e-01]]])"
            ]
          },
          "metadata": {},
          "execution_count": 29
        }
      ]
    },
    {
      "cell_type": "code",
      "source": [
        "x_permuted[0,0,0]"
      ],
      "metadata": {
        "colab": {
          "base_uri": "https://localhost:8080/"
        },
        "id": "7FqGYO492_r2",
        "outputId": "6ff94d3b-99e2-42d5-fbb8-b8223ca06d48"
      },
      "execution_count": null,
      "outputs": [
        {
          "output_type": "execute_result",
          "data": {
            "text/plain": [
              "tensor(100.)"
            ]
          },
          "metadata": {},
          "execution_count": 30
        }
      ]
    },
    {
      "cell_type": "markdown",
      "source": [
        "# indexing in pytorch"
      ],
      "metadata": {
        "id": "5tVw_jP23WqI"
      }
    },
    {
      "cell_type": "code",
      "source": [
        "x = torch.arange(1,10).reshape(1,3,3)\n",
        "x"
      ],
      "metadata": {
        "colab": {
          "base_uri": "https://localhost:8080/"
        },
        "id": "Ezo0kc3V4Yye",
        "outputId": "e20759c6-af4e-43b7-d2ab-141ab1d994c8"
      },
      "execution_count": null,
      "outputs": [
        {
          "output_type": "execute_result",
          "data": {
            "text/plain": [
              "tensor([[[1, 2, 3],\n",
              "         [4, 5, 6],\n",
              "         [7, 8, 9]]])"
            ]
          },
          "metadata": {},
          "execution_count": 31
        }
      ]
    },
    {
      "cell_type": "code",
      "source": [
        "# lets index on 0\n",
        "x[0]"
      ],
      "metadata": {
        "colab": {
          "base_uri": "https://localhost:8080/"
        },
        "id": "r6RGwFH65MF2",
        "outputId": "b2c102a4-4628-4f51-bcc9-fb3901070b6b"
      },
      "execution_count": null,
      "outputs": [
        {
          "output_type": "execute_result",
          "data": {
            "text/plain": [
              "tensor([[1, 2, 3],\n",
              "        [4, 5, 6],\n",
              "        [7, 8, 9]])"
            ]
          },
          "metadata": {},
          "execution_count": 32
        }
      ]
    },
    {
      "cell_type": "code",
      "source": [
        "x[0,0]"
      ],
      "metadata": {
        "colab": {
          "base_uri": "https://localhost:8080/"
        },
        "id": "6zUqjdgQ5nmB",
        "outputId": "a735d8cb-060b-4c21-b650-9fde89c6a2cd"
      },
      "execution_count": null,
      "outputs": [
        {
          "output_type": "execute_result",
          "data": {
            "text/plain": [
              "tensor([1, 2, 3])"
            ]
          },
          "metadata": {},
          "execution_count": 33
        }
      ]
    },
    {
      "cell_type": "code",
      "source": [
        "# last number 9\n",
        "x[:,2,2] # we can use semicolon to select all of target dimension."
      ],
      "metadata": {
        "id": "3TQTEx1V5wNn",
        "colab": {
          "base_uri": "https://localhost:8080/"
        },
        "outputId": "43beba3d-a2c2-4d8a-e57e-906ebbfb3fd5"
      },
      "execution_count": null,
      "outputs": [
        {
          "output_type": "execute_result",
          "data": {
            "text/plain": [
              "tensor([9])"
            ]
          },
          "metadata": {},
          "execution_count": 49
        }
      ]
    },
    {
      "cell_type": "markdown",
      "source": [
        "PyTorch Tensors & Numpy"
      ],
      "metadata": {
        "id": "pKjR9OFz7CMI"
      }
    },
    {
      "cell_type": "code",
      "source": [
        "tensor = torch.rand(5,2)\n",
        "tensor"
      ],
      "metadata": {
        "colab": {
          "base_uri": "https://localhost:8080/"
        },
        "id": "ya7Zek71AcAc",
        "outputId": "d4f68dbc-1548-4a15-c609-19a8029d66aa"
      },
      "execution_count": null,
      "outputs": [
        {
          "output_type": "execute_result",
          "data": {
            "text/plain": [
              "tensor([[0.1233, 0.1030],\n",
              "        [0.1645, 0.9227],\n",
              "        [0.4186, 0.9764],\n",
              "        [0.9885, 0.9518],\n",
              "        [0.5476, 0.2942]])"
            ]
          },
          "metadata": {},
          "execution_count": 51
        }
      ]
    },
    {
      "cell_type": "code",
      "source": [
        "tensor.numpy()"
      ],
      "metadata": {
        "colab": {
          "base_uri": "https://localhost:8080/"
        },
        "id": "RxviC3_5AhwZ",
        "outputId": "fa0ce634-5ac0-4712-8e7f-7bef72461cb2"
      },
      "execution_count": null,
      "outputs": [
        {
          "output_type": "execute_result",
          "data": {
            "text/plain": [
              "array([[0.12330931, 0.10302716],\n",
              "       [0.16453135, 0.9227224 ],\n",
              "       [0.41856366, 0.97638637],\n",
              "       [0.9884796 , 0.95177436],\n",
              "       [0.5475738 , 0.29424214]], dtype=float32)"
            ]
          },
          "metadata": {},
          "execution_count": 52
        }
      ]
    },
    {
      "cell_type": "code",
      "source": [
        "type(tensor)"
      ],
      "metadata": {
        "colab": {
          "base_uri": "https://localhost:8080/"
        },
        "id": "iqWcWU1TAnr2",
        "outputId": "d5610b06-3705-403c-c580-669e5b1851b0"
      },
      "execution_count": null,
      "outputs": [
        {
          "output_type": "execute_result",
          "data": {
            "text/plain": [
              "torch.Tensor"
            ]
          },
          "metadata": {},
          "execution_count": 53
        }
      ]
    },
    {
      "cell_type": "markdown",
      "source": [
        "#Reproducbility(trying to take random out of random)"
      ],
      "metadata": {
        "id": "8q3h1tEvAqHE"
      }
    },
    {
      "cell_type": "code",
      "source": [
        "# set the random seed\n",
        "RANDOM_SEED = 42\n",
        "torch.manual_seed(RANDOM_SEED)\n",
        "random_tensor_A = torch.rand(3,4)\n",
        "torch.manual_seed(RANDOM_SEED)\n",
        "random_tensor_B = torch.rand(3,4)\n",
        "print(random_tensor_A,random_tensor_B)\n",
        "print(random_tensor_A==random_tensor_B)"
      ],
      "metadata": {
        "colab": {
          "base_uri": "https://localhost:8080/"
        },
        "id": "E7olA-hGGRhG",
        "outputId": "ac37e6a1-9bf4-45a9-bb4d-828ea8473ca3"
      },
      "execution_count": null,
      "outputs": [
        {
          "output_type": "stream",
          "name": "stdout",
          "text": [
            "tensor([[0.8823, 0.9150, 0.3829, 0.9593],\n",
            "        [0.3904, 0.6009, 0.2566, 0.7936],\n",
            "        [0.9408, 0.1332, 0.9346, 0.5936]]) tensor([[0.8823, 0.9150, 0.3829, 0.9593],\n",
            "        [0.3904, 0.6009, 0.2566, 0.7936],\n",
            "        [0.9408, 0.1332, 0.9346, 0.5936]])\n",
            "tensor([[True, True, True, True],\n",
            "        [True, True, True, True],\n",
            "        [True, True, True, True]])\n"
          ]
        }
      ]
    },
    {
      "cell_type": "code",
      "source": [
        "!nvidia-smi"
      ],
      "metadata": {
        "id": "BFpRI16LJAwg"
      },
      "execution_count": null,
      "outputs": []
    },
    {
      "cell_type": "markdown",
      "source": [
        "# Accessing the GPU in Pytorch"
      ],
      "metadata": {
        "id": "Opiwp4JWLAX4"
      }
    },
    {
      "cell_type": "code",
      "source": [
        "torch.cuda.is_available()"
      ],
      "metadata": {
        "colab": {
          "base_uri": "https://localhost:8080/"
        },
        "id": "o6nYx1G_SL6-",
        "outputId": "4e0680a2-0dc8-4da7-fc41-d2677568b30b"
      },
      "execution_count": 2,
      "outputs": [
        {
          "output_type": "execute_result",
          "data": {
            "text/plain": [
              "True"
            ]
          },
          "metadata": {},
          "execution_count": 2
        }
      ]
    },
    {
      "cell_type": "code",
      "source": [
        "# Device Agnostic Code\n",
        "device = \"cuda\" if torch.cuda.is_available() else \"cpu\"\n",
        "device"
      ],
      "metadata": {
        "colab": {
          "base_uri": "https://localhost:8080/",
          "height": 35
        },
        "id": "9U5T11l8SU4W",
        "outputId": "d6b9badc-b26c-406f-93ca-d9144c1bbf35"
      },
      "execution_count": 3,
      "outputs": [
        {
          "output_type": "execute_result",
          "data": {
            "text/plain": [
              "'cuda'"
            ],
            "application/vnd.google.colaboratory.intrinsic+json": {
              "type": "string"
            }
          },
          "metadata": {},
          "execution_count": 3
        }
      ]
    },
    {
      "cell_type": "code",
      "source": [
        "#count the number of devices of gpu's avaiable\n",
        "torch.cuda.device_count()"
      ],
      "metadata": {
        "colab": {
          "base_uri": "https://localhost:8080/"
        },
        "id": "OWJ8K6YzSrlO",
        "outputId": "dcf6d39a-6fec-49a1-fd48-73da1d4f54b3"
      },
      "execution_count": 4,
      "outputs": [
        {
          "output_type": "execute_result",
          "data": {
            "text/plain": [
              "1"
            ]
          },
          "metadata": {},
          "execution_count": 4
        }
      ]
    },
    {
      "cell_type": "markdown",
      "source": [
        "# Putting tensors on GPU (defaul on CPU)"
      ],
      "metadata": {
        "id": "FgZPom4XS-aa"
      }
    },
    {
      "cell_type": "code",
      "source": [
        "# create a tensor\n",
        "tensor = torch.tensor([1,2,3,4,5])\n",
        "tensor"
      ],
      "metadata": {
        "colab": {
          "base_uri": "https://localhost:8080/"
        },
        "id": "Ij9vKqB6USAu",
        "outputId": "e63b5130-97b7-4665-b5e0-7983738750e3"
      },
      "execution_count": 5,
      "outputs": [
        {
          "output_type": "execute_result",
          "data": {
            "text/plain": [
              "tensor([1, 2, 3, 4, 5])"
            ]
          },
          "metadata": {},
          "execution_count": 5
        }
      ]
    },
    {
      "cell_type": "code",
      "source": [
        "tensor.device"
      ],
      "metadata": {
        "colab": {
          "base_uri": "https://localhost:8080/"
        },
        "id": "OMqoWKZ3Uapv",
        "outputId": "3c7e6ff7-e988-48b9-d3ed-86e63de1c6b3"
      },
      "execution_count": 6,
      "outputs": [
        {
          "output_type": "execute_result",
          "data": {
            "text/plain": [
              "device(type='cpu')"
            ]
          },
          "metadata": {},
          "execution_count": 6
        }
      ]
    },
    {
      "cell_type": "code",
      "source": [
        "# Move tensor  to GPU (if available)\n",
        "tensor_on_gpu = tensor.to(device)\n",
        "tensor_on_gpu"
      ],
      "metadata": {
        "colab": {
          "base_uri": "https://localhost:8080/"
        },
        "id": "rT8a4B9aUcaN",
        "outputId": "963baf84-09bf-4a73-8794-b975ed52fe08"
      },
      "execution_count": 7,
      "outputs": [
        {
          "output_type": "execute_result",
          "data": {
            "text/plain": [
              "tensor([1, 2, 3, 4, 5], device='cuda:0')"
            ]
          },
          "metadata": {},
          "execution_count": 7
        }
      ]
    },
    {
      "cell_type": "markdown",
      "source": [
        "### Moving tensors Back to CPU"
      ],
      "metadata": {
        "id": "knsR6oNbU2tD"
      }
    },
    {
      "cell_type": "code",
      "source": [
        "tensor_on_cpu = tensor_on_gpu.cpu()\n",
        "tensor_on_cpu"
      ],
      "metadata": {
        "colab": {
          "base_uri": "https://localhost:8080/"
        },
        "id": "ZumWgRFnVe9-",
        "outputId": "326988bb-64a4-42c0-a25c-4b0cf1e789b2"
      },
      "execution_count": 8,
      "outputs": [
        {
          "output_type": "execute_result",
          "data": {
            "text/plain": [
              "tensor([1, 2, 3, 4, 5])"
            ]
          },
          "metadata": {},
          "execution_count": 8
        }
      ]
    },
    {
      "cell_type": "code",
      "source": [
        "tensor_on_cpu.device"
      ],
      "metadata": {
        "colab": {
          "base_uri": "https://localhost:8080/"
        },
        "id": "HbPMDu9xVoUB",
        "outputId": "55d56525-8b5a-48a6-c61c-64be991c99eb"
      },
      "execution_count": 9,
      "outputs": [
        {
          "output_type": "execute_result",
          "data": {
            "text/plain": [
              "device(type='cpu')"
            ]
          },
          "metadata": {},
          "execution_count": 9
        }
      ]
    },
    {
      "cell_type": "code",
      "source": [],
      "metadata": {
        "id": "J-dH1PlKVp20"
      },
      "execution_count": null,
      "outputs": []
    }
  ]
}