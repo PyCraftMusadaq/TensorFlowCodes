{
  "nbformat": 4,
  "nbformat_minor": 0,
  "metadata": {
    "colab": {
      "provenance": [],
      "gpuType": "V28",
      "authorship_tag": "ABX9TyMVmGOBifOU6DRyXsCqsaOJ",
      "include_colab_link": true
    },
    "kernelspec": {
      "name": "python3",
      "display_name": "Python 3"
    },
    "language_info": {
      "name": "python"
    },
    "accelerator": "TPU"
  },
  "cells": [
    {
      "cell_type": "markdown",
      "metadata": {
        "id": "view-in-github",
        "colab_type": "text"
      },
      "source": [
        "<a href=\"https://colab.research.google.com/github/PyCraftMusadaq/TensorFlowCodes/blob/main/00_Pytorch_course.ipynb\" target=\"_parent\"><img src=\"https://colab.research.google.com/assets/colab-badge.svg\" alt=\"Open In Colab\"/></a>"
      ]
    },
    {
      "cell_type": "code",
      "execution_count": 2,
      "metadata": {
        "colab": {
          "base_uri": "https://localhost:8080/"
        },
        "id": "5l3PrLeCjo4U",
        "outputId": "1ea44c30-1f62-4e98-c556-ffecc83dec30"
      },
      "outputs": [
        {
          "output_type": "stream",
          "name": "stdout",
          "text": [
            "2.3.0+cpu\n"
          ]
        }
      ],
      "source": [
        "import torch\n",
        "import pandas as pd\n",
        "import numpy as np\n",
        "import matplotlib.pyplot as plt\n",
        "print(torch.__version__)"
      ]
    },
    {
      "cell_type": "code",
      "source": [
        "!nvidia-smi"
      ],
      "metadata": {
        "id": "mt43A9Shjzt1",
        "colab": {
          "base_uri": "https://localhost:8080/"
        },
        "outputId": "9c508cbc-3815-43bd-e41f-48c2c0e579dd"
      },
      "execution_count": 6,
      "outputs": [
        {
          "output_type": "stream",
          "name": "stdout",
          "text": [
            "/bin/bash: line 1: nvidia-smi: command not found\n"
          ]
        }
      ]
    },
    {
      "cell_type": "markdown",
      "source": [
        "# Introduction to Tensors"
      ],
      "metadata": {
        "id": "bh_WbYWm85TA"
      }
    },
    {
      "cell_type": "code",
      "source": [
        "# scalers\n",
        "scaler = torch.tensor(7)\n",
        "scaler"
      ],
      "metadata": {
        "colab": {
          "base_uri": "https://localhost:8080/"
        },
        "id": "mTzFT4iG-XUY",
        "outputId": "9d786f42-f34c-4eef-bce8-b98034ba5cb2"
      },
      "execution_count": 9,
      "outputs": [
        {
          "output_type": "execute_result",
          "data": {
            "text/plain": [
              "tensor(7)"
            ]
          },
          "metadata": {},
          "execution_count": 9
        }
      ]
    },
    {
      "cell_type": "code",
      "source": [
        "scaler.ndim"
      ],
      "metadata": {
        "colab": {
          "base_uri": "https://localhost:8080/"
        },
        "id": "6kLVwTk0-YcA",
        "outputId": "9724ccea-b3d1-4a86-89aa-01e5d32426f9"
      },
      "execution_count": 10,
      "outputs": [
        {
          "output_type": "execute_result",
          "data": {
            "text/plain": [
              "0"
            ]
          },
          "metadata": {},
          "execution_count": 10
        }
      ]
    },
    {
      "cell_type": "code",
      "source": [
        "type(scaler)"
      ],
      "metadata": {
        "colab": {
          "base_uri": "https://localhost:8080/"
        },
        "id": "kfptYbjl-8Uv",
        "outputId": "04aaea0a-06d3-4c9f-9d30-25ea9ff4db80"
      },
      "execution_count": 11,
      "outputs": [
        {
          "output_type": "execute_result",
          "data": {
            "text/plain": [
              "torch.Tensor"
            ]
          },
          "metadata": {},
          "execution_count": 11
        }
      ]
    },
    {
      "cell_type": "code",
      "source": [
        "# regular integer back from tensor\n",
        "type(scaler.item())"
      ],
      "metadata": {
        "colab": {
          "base_uri": "https://localhost:8080/"
        },
        "id": "_iilX8Sv_Ia7",
        "outputId": "0788d8ff-acb2-4b8e-9a88-deec160d9ddc"
      },
      "execution_count": 12,
      "outputs": [
        {
          "output_type": "execute_result",
          "data": {
            "text/plain": [
              "int"
            ]
          },
          "metadata": {},
          "execution_count": 12
        }
      ]
    },
    {
      "cell_type": "code",
      "source": [
        "# vector\n",
        "vector = torch.tensor([1,2,3,4,5])\n",
        "vector"
      ],
      "metadata": {
        "colab": {
          "base_uri": "https://localhost:8080/"
        },
        "id": "d1c13Cq2_Pda",
        "outputId": "bb2fe8ef-d769-4d8d-b970-a1feda1fb4f0"
      },
      "execution_count": 13,
      "outputs": [
        {
          "output_type": "execute_result",
          "data": {
            "text/plain": [
              "tensor([1, 2, 3, 4, 5])"
            ]
          },
          "metadata": {},
          "execution_count": 13
        }
      ]
    },
    {
      "cell_type": "code",
      "source": [
        "vector.ndim"
      ],
      "metadata": {
        "colab": {
          "base_uri": "https://localhost:8080/"
        },
        "id": "i3Vp0s3O_crM",
        "outputId": "7eadb437-e021-4485-9645-28462b566ddf"
      },
      "execution_count": 14,
      "outputs": [
        {
          "output_type": "execute_result",
          "data": {
            "text/plain": [
              "1"
            ]
          },
          "metadata": {},
          "execution_count": 14
        }
      ]
    },
    {
      "cell_type": "code",
      "source": [
        "vector.shape"
      ],
      "metadata": {
        "colab": {
          "base_uri": "https://localhost:8080/"
        },
        "id": "jjY3lAGv_ycu",
        "outputId": "730f5a4e-d979-48e7-d04e-b372b8aa4c62"
      },
      "execution_count": 15,
      "outputs": [
        {
          "output_type": "execute_result",
          "data": {
            "text/plain": [
              "torch.Size([5])"
            ]
          },
          "metadata": {},
          "execution_count": 15
        }
      ]
    },
    {
      "cell_type": "code",
      "source": [
        "MATRIX = torch.tensor([[1,2,3,4],[5,6,7,8],[9,10,11,12]])\n",
        "MATRIX,MATRIX.shape,MATRIX.ndim"
      ],
      "metadata": {
        "colab": {
          "base_uri": "https://localhost:8080/"
        },
        "id": "GRqWX6JZ_2Cv",
        "outputId": "54f88483-ef6b-40e4-a207-781808886868"
      },
      "execution_count": 16,
      "outputs": [
        {
          "output_type": "execute_result",
          "data": {
            "text/plain": [
              "(tensor([[ 1,  2,  3,  4],\n",
              "         [ 5,  6,  7,  8],\n",
              "         [ 9, 10, 11, 12]]),\n",
              " torch.Size([3, 4]),\n",
              " 2)"
            ]
          },
          "metadata": {},
          "execution_count": 16
        }
      ]
    },
    {
      "cell_type": "code",
      "source": [
        "TENSOR = torch.tensor([[[1,2,3],\n",
        " [4,5,6],\n",
        "  [7,8,9]]])\n",
        "TENSOR,TENSOR.shape,TENSOR.ndim"
      ],
      "metadata": {
        "colab": {
          "base_uri": "https://localhost:8080/"
        },
        "id": "runcaHJiAK4V",
        "outputId": "f0da3970-ea95-422b-810f-c014bc4a0ccd"
      },
      "execution_count": 17,
      "outputs": [
        {
          "output_type": "execute_result",
          "data": {
            "text/plain": [
              "(tensor([[[1, 2, 3],\n",
              "          [4, 5, 6],\n",
              "          [7, 8, 9]]]),\n",
              " torch.Size([1, 3, 3]),\n",
              " 3)"
            ]
          },
          "metadata": {},
          "execution_count": 17
        }
      ]
    },
    {
      "cell_type": "code",
      "source": [
        "TENSOR[0]"
      ],
      "metadata": {
        "colab": {
          "base_uri": "https://localhost:8080/"
        },
        "id": "hZ1BMTaPBq9c",
        "outputId": "7858e0c2-53b5-44cd-8c19-eaafc4fe8ee4"
      },
      "execution_count": 18,
      "outputs": [
        {
          "output_type": "execute_result",
          "data": {
            "text/plain": [
              "tensor([[1, 2, 3],\n",
              "        [4, 5, 6],\n",
              "        [7, 8, 9]])"
            ]
          },
          "metadata": {},
          "execution_count": 18
        }
      ]
    },
    {
      "cell_type": "markdown",
      "source": [
        "#Creating Random Tensors using Pytorch"
      ],
      "metadata": {
        "id": "NcAtHtl8Ch1C"
      }
    },
    {
      "cell_type": "code",
      "source": [
        "random_tensor = torch.rand(3,4)\n",
        "random_tensor"
      ],
      "metadata": {
        "colab": {
          "base_uri": "https://localhost:8080/"
        },
        "id": "9ZSTr3wnDASu",
        "outputId": "d435172d-31ff-4007-a3e4-21120acc92c4"
      },
      "execution_count": 9,
      "outputs": [
        {
          "output_type": "execute_result",
          "data": {
            "text/plain": [
              "tensor([[0.0562, 0.3287, 0.9974, 0.6024],\n",
              "        [0.6785, 0.1695, 0.8050, 0.5028],\n",
              "        [0.1323, 0.8788, 0.3267, 0.5947]])"
            ]
          },
          "metadata": {},
          "execution_count": 9
        }
      ]
    },
    {
      "cell_type": "code",
      "source": [
        "## create a random tensor with similar shape to image\n",
        "image_tensor = torch.rand(size=(224,224,3))\n",
        "image_tensor"
      ],
      "metadata": {
        "colab": {
          "base_uri": "https://localhost:8080/"
        },
        "id": "CrJLuJhnEKfE",
        "outputId": "d15db27c-c414-4206-8007-224701f6c661"
      },
      "execution_count": 4,
      "outputs": [
        {
          "output_type": "execute_result",
          "data": {
            "text/plain": [
              "tensor([[[0.8213, 0.8962, 0.1089],\n",
              "         [0.4571, 0.9779, 0.1489],\n",
              "         [0.0973, 0.0163, 0.8376],\n",
              "         ...,\n",
              "         [0.1295, 0.3728, 0.7951],\n",
              "         [0.7178, 0.7223, 0.7639],\n",
              "         [0.8971, 0.3104, 0.9325]],\n",
              "\n",
              "        [[0.5332, 0.4174, 0.6069],\n",
              "         [0.6190, 0.9479, 0.8088],\n",
              "         [0.4000, 0.7916, 0.7990],\n",
              "         ...,\n",
              "         [0.7960, 0.7659, 0.7991],\n",
              "         [0.1139, 0.2752, 0.2639],\n",
              "         [0.7166, 0.9180, 0.7560]],\n",
              "\n",
              "        [[0.5696, 0.5082, 0.4776],\n",
              "         [0.1712, 0.1551, 0.2095],\n",
              "         [0.0815, 0.3831, 0.8234],\n",
              "         ...,\n",
              "         [0.0152, 0.9101, 0.2335],\n",
              "         [0.9349, 0.5491, 0.7927],\n",
              "         [0.1168, 0.0337, 0.1112]],\n",
              "\n",
              "        ...,\n",
              "\n",
              "        [[0.4780, 0.8068, 0.2891],\n",
              "         [0.5106, 0.6906, 0.9715],\n",
              "         [0.8509, 0.4328, 0.4379],\n",
              "         ...,\n",
              "         [0.3503, 0.1822, 0.3351],\n",
              "         [0.8041, 0.7683, 0.0616],\n",
              "         [0.0516, 0.3735, 0.5090]],\n",
              "\n",
              "        [[0.6818, 0.6683, 0.2114],\n",
              "         [0.5533, 0.6959, 0.6252],\n",
              "         [0.4892, 0.4689, 0.4113],\n",
              "         ...,\n",
              "         [0.6317, 0.1981, 0.6777],\n",
              "         [0.2896, 0.4043, 0.1581],\n",
              "         [0.4616, 0.2224, 0.3575]],\n",
              "\n",
              "        [[0.1368, 0.2101, 0.4449],\n",
              "         [0.1635, 0.5959, 0.3981],\n",
              "         [0.6828, 0.4291, 0.3723],\n",
              "         ...,\n",
              "         [0.2442, 0.0757, 0.4529],\n",
              "         [0.5253, 0.3087, 0.4451],\n",
              "         [0.1174, 0.2702, 0.2453]]])"
            ]
          },
          "metadata": {},
          "execution_count": 4
        }
      ]
    },
    {
      "cell_type": "code",
      "source": [
        "image_tensor.shape,image_tensor.ndim,image_tensor.size"
      ],
      "metadata": {
        "colab": {
          "base_uri": "https://localhost:8080/"
        },
        "id": "6g-KEOdeF5Q9",
        "outputId": "406e5a49-8fc8-4a05-d8e0-37330243f68b"
      },
      "execution_count": 5,
      "outputs": [
        {
          "output_type": "execute_result",
          "data": {
            "text/plain": [
              "(torch.Size([224, 224, 3]), 3, <function Tensor.size>)"
            ]
          },
          "metadata": {},
          "execution_count": 5
        }
      ]
    },
    {
      "cell_type": "markdown",
      "source": [
        "##Zeros and ones tensors"
      ],
      "metadata": {
        "id": "ThqcjDWZGU4c"
      }
    },
    {
      "cell_type": "code",
      "source": [
        "zeros = torch.zeros(size=(3,4))\n",
        "zeros"
      ],
      "metadata": {
        "colab": {
          "base_uri": "https://localhost:8080/"
        },
        "id": "qdonL7FBHUmm",
        "outputId": "95328a33-2461-4333-c9e0-130401092c49"
      },
      "execution_count": 6,
      "outputs": [
        {
          "output_type": "execute_result",
          "data": {
            "text/plain": [
              "tensor([[0., 0., 0., 0.],\n",
              "        [0., 0., 0., 0.],\n",
              "        [0., 0., 0., 0.]])"
            ]
          },
          "metadata": {},
          "execution_count": 6
        }
      ]
    },
    {
      "cell_type": "code",
      "source": [
        "ones = torch.ones(size=(5,4))\n",
        "ones"
      ],
      "metadata": {
        "colab": {
          "base_uri": "https://localhost:8080/"
        },
        "id": "Lr_WYV7fHYfM",
        "outputId": "61776280-b07d-4b37-e123-9bc022791473"
      },
      "execution_count": 7,
      "outputs": [
        {
          "output_type": "execute_result",
          "data": {
            "text/plain": [
              "tensor([[1., 1., 1., 1.],\n",
              "        [1., 1., 1., 1.],\n",
              "        [1., 1., 1., 1.],\n",
              "        [1., 1., 1., 1.],\n",
              "        [1., 1., 1., 1.]])"
            ]
          },
          "metadata": {},
          "execution_count": 7
        }
      ]
    },
    {
      "cell_type": "code",
      "source": [
        "random_tensor.dtype"
      ],
      "metadata": {
        "colab": {
          "base_uri": "https://localhost:8080/"
        },
        "id": "9YRURsMVHeyv",
        "outputId": "bf1cbb5d-3b15-4f4b-bdd2-7a8ddc09b2bd"
      },
      "execution_count": 10,
      "outputs": [
        {
          "output_type": "execute_result",
          "data": {
            "text/plain": [
              "torch.float32"
            ]
          },
          "metadata": {},
          "execution_count": 10
        }
      ]
    },
    {
      "cell_type": "markdown",
      "source": [
        "## createing a tensors with range and tensors-like"
      ],
      "metadata": {
        "id": "Y9ez8UrNIULI"
      }
    },
    {
      "cell_type": "code",
      "source": [
        "# torch.range\n",
        "torch.range(0,10) # don't use it"
      ],
      "metadata": {
        "colab": {
          "base_uri": "https://localhost:8080/"
        },
        "id": "mwOlQuwOJSjj",
        "outputId": "c9c4422e-564d-4b5b-e510-b469e1152da1"
      },
      "execution_count": 11,
      "outputs": [
        {
          "output_type": "stream",
          "name": "stderr",
          "text": [
            "<ipython-input-11-24ca51d35b19>:2: UserWarning: torch.range is deprecated and will be removed in a future release because its behavior is inconsistent with Python's range builtin. Instead, use torch.arange, which produces values in [start, end).\n",
            "  torch.range(0,10)\n"
          ]
        },
        {
          "output_type": "execute_result",
          "data": {
            "text/plain": [
              "tensor([ 0.,  1.,  2.,  3.,  4.,  5.,  6.,  7.,  8.,  9., 10.])"
            ]
          },
          "metadata": {},
          "execution_count": 11
        }
      ]
    },
    {
      "cell_type": "code",
      "source": [
        "torch.arange(start=0,end=100,step=5)"
      ],
      "metadata": {
        "colab": {
          "base_uri": "https://localhost:8080/"
        },
        "id": "eDuhWHFUJasA",
        "outputId": "6cf214c8-304f-473c-9c2d-91ff63f3e9df"
      },
      "execution_count": 13,
      "outputs": [
        {
          "output_type": "execute_result",
          "data": {
            "text/plain": [
              "tensor([ 0,  5, 10, 15, 20, 25, 30, 35, 40, 45, 50, 55, 60, 65, 70, 75, 80, 85,\n",
              "        90, 95])"
            ]
          },
          "metadata": {},
          "execution_count": 13
        }
      ]
    },
    {
      "cell_type": "code",
      "source": [
        "#tensor_like is used to replicate the shape of some other tensors\n",
        "zeros_tensors = torch.zeros_like(input=ones)"
      ],
      "metadata": {
        "id": "T7gYqq38Ji8s"
      },
      "execution_count": 16,
      "outputs": []
    },
    {
      "cell_type": "code",
      "source": [
        "zeros_tensors"
      ],
      "metadata": {
        "colab": {
          "base_uri": "https://localhost:8080/"
        },
        "id": "7X_TxEipKlUl",
        "outputId": "c320a0f1-f05a-4910-fd7a-cc51b7af17a4"
      },
      "execution_count": 17,
      "outputs": [
        {
          "output_type": "execute_result",
          "data": {
            "text/plain": [
              "tensor([[0., 0., 0., 0.],\n",
              "        [0., 0., 0., 0.],\n",
              "        [0., 0., 0., 0.],\n",
              "        [0., 0., 0., 0.],\n",
              "        [0., 0., 0., 0.]])"
            ]
          },
          "metadata": {},
          "execution_count": 17
        }
      ]
    },
    {
      "cell_type": "code",
      "source": [
        "Tensor_datatypes = torch.tensor([3.0,4.0,5.0],dtype=None)\n",
        "Tensor_datatypes.dtype"
      ],
      "metadata": {
        "colab": {
          "base_uri": "https://localhost:8080/"
        },
        "id": "YGE-BHUzK71s",
        "outputId": "91705173-013d-4729-d9e7-3f7414ebb706"
      },
      "execution_count": 18,
      "outputs": [
        {
          "output_type": "execute_result",
          "data": {
            "text/plain": [
              "torch.float32"
            ]
          },
          "metadata": {},
          "execution_count": 18
        }
      ]
    },
    {
      "cell_type": "code",
      "source": [
        "Tensor_datatypes = torch.tensor([3.0,4.0,5.0],dtype=torch.float64,device=None,requires_grad=False) # require grad mean whether or not to track gradients while doing tensor operations.\n",
        "Tensor_datatypes.dtype"
      ],
      "metadata": {
        "colab": {
          "base_uri": "https://localhost:8080/"
        },
        "id": "F3Z6lKQ3LzX0",
        "outputId": "ee6bf863-d750-41fc-d889-75e4b6bfde54"
      },
      "execution_count": 20,
      "outputs": [
        {
          "output_type": "execute_result",
          "data": {
            "text/plain": [
              "torch.float64"
            ]
          },
          "metadata": {},
          "execution_count": 20
        }
      ]
    },
    {
      "cell_type": "code",
      "source": [],
      "metadata": {
        "id": "t2Q7AcL0L4QE"
      },
      "execution_count": null,
      "outputs": []
    }
  ]
}